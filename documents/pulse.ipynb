{
 "cells": [
  {
   "cell_type": "code",
   "execution_count": 2,
   "metadata": {},
   "outputs": [],
   "source": [
    "from math import pi, sqrt, e, log\n",
    "from scipy.optimize import curve_fit\n",
    "import numpy as np\n",
    "import matplotlib.pyplot as plt"
   ]
  },
  {
   "cell_type": "code",
   "execution_count": 37,
   "metadata": {},
   "outputs": [],
   "source": [
    "#Max sneeze particle velocity is 6 m/s. [Nishimura 2013]\n",
    "\n",
    "#the particle can travel 0.005 m per pulse.\n",
    "\n",
    "max_velocity = 6.0 \n",
    "max_allowable_distance = 0.005 #m\n",
    "max_interval = max_allowable_distance/max_velocity\n",
    "\n",
    "repetition_freq = 1.0/max_interval\n",
    "\n",
    "\n",
    "pulse_duration = 100e-9 #seconds\n",
    "\n",
    "\n",
    "duty_cycle = repetition_freq * pulse_duration \n",
    "\n",
    "pulse_power_draw = 2.0*80e-3 # volts * amps - not equivalent to the RF output power, do note\n",
    "\n",
    "average_power = duty_cycle * pulse_power_draw #watts\n",
    "\n",
    "#battery_capacity = 0.1575 #watt-hours - a single LR44 zinc cell\n",
    "battery_capacity = 1.725\n",
    "\n",
    "battery_life_months = (battery_capacity / average_power) / 24 / 30 # months\n",
    "\n"
   ]
  },
  {
   "cell_type": "code",
   "execution_count": 36,
   "metadata": {
    "scrolled": true
   },
   "outputs": [
    {
     "data": {
      "text/plain": [
       "100000.0"
      ]
     },
     "execution_count": 36,
     "metadata": {},
     "output_type": "execute_result"
    }
   ],
   "source": [
    "pulse_RF_output_power_watts = 10 # watts\n",
    "\n",
    "exposure_area = (0.01**2.0) #m\n",
    "\n",
    "exposure_flux_w_m2 = pulse_RF_output_power_watts / exposure_area\n",
    "exposure_flux_w_m2"
   ]
  },
  {
   "cell_type": "markdown",
   "metadata": {},
   "source": [
    "ICNIRP 2020, Table 3, General Public.\n",
    "HEALTH PHYS118(5): 483–524; 2020\n",
    "PUBLISHED AHEAD OF PRINT IN MARCH 2020: HEALTH PHYS 118(00):000–000; 2020\n",
    "\n",
    "The key is that the \"Basic Restrictions are averaged over a 6-minute period\".\n",
    "\n",
    "\n",
    "> t is time in seconds, and restrictions must be satisfied for all values of t between >0 and <360 s, \n",
    " regardless of the temporal characteristics of the exposure itself.\n",
    " Local Uab is to be averaged over a square 4-cm^2 surface area of the body.\n",
    " Exposure from any pulse, group of pulses, or subgroup of pulses in a train, as well as from \n",
    " the summation of exposures (including non-pulsed\n",
    " EMFs), delivered in t s, must not exceed these levels.\n",
    "\n",
    "> The SA and U ab values are conservative in that they are\n",
    " not sufficient to raise Type 1 or Type 2 tissue temperatures\n",
    " by 5 or 2°C, respectively.\n",
    "\n",
    "there's also Table 7, giving the equation \n",
    "55/f G 0.177\n",
    "\n"
   ]
  },
  {
   "cell_type": "code",
   "execution_count": 38,
   "metadata": {
    "scrolled": true
   },
   "outputs": [
    {
     "data": {
      "text/plain": [
       "360.00000000000006"
      ]
     },
     "execution_count": 38,
     "metadata": {},
     "output_type": "execute_result"
    },
    {
     "data": {
      "image/png": "[encoded data removed]",
      "text/plain": [
       "<Figure size 432x288 with 1 Axes>"
      ]
     },
     "metadata": {
      "needs_background": "light"
     },
     "output_type": "display_data"
    }
   ],
   "source": [
    "\n",
    "# Converted from kJ/m^2\n",
    "def specific_energy_j_m2(t):\n",
    "    return 7.2*(0.05+0.95*((t/360.0)**0.5))*1000.0 # J/m^2\n",
    "\n",
    "\n",
    "t = np.linspace(0,360,100)\n",
    "\n",
    "plt.plot(t,specific_energy_j_m2(t), 'r')\n",
    "plt.title(\"Energy dissipation \")\n",
    "\n",
    "specific_energy_j_m2(0)"
   ]
  },
  {
   "cell_type": "code",
   "execution_count": 7,
   "metadata": {},
   "outputs": [],
   "source": [
    "# Or is it Table 7"
   ]
  },
  {
   "cell_type": "code",
   "execution_count": null,
   "metadata": {},
   "outputs": [],
   "source": []
  },
  {
   "cell_type": "code",
   "execution_count": 33,
   "metadata": {
    "scrolled": false
   },
   "outputs": [
    {
     "ename": "ValueError",
     "evalue": "x and y must have same first dimension, but have shapes (11999,) and (11998,)",
     "output_type": "error",
     "traceback": [
      "\u001b[0;31m---------------------------------------------------------------------------\u001b[0m",
      "\u001b[0;31mValueError\u001b[0m                                Traceback (most recent call last)",
      "\u001b[0;32m<ipython-input-33-3e70d1382895>\u001b[0m in \u001b[0;36m<module>\u001b[0;34m\u001b[0m\n\u001b[1;32m     21\u001b[0m \u001b[0;31m#no, wait, isn't that equation already an integral over energy?\u001b[0m\u001b[0;34m\u001b[0m\u001b[0;34m\u001b[0m\u001b[0;34m\u001b[0m\u001b[0m\n\u001b[1;32m     22\u001b[0m \u001b[0;34m\u001b[0m\u001b[0m\n\u001b[0;32m---> 23\u001b[0;31m \u001b[0mplt\u001b[0m\u001b[0;34m.\u001b[0m\u001b[0mplot\u001b[0m\u001b[0;34m(\u001b[0m\u001b[0mpulse_t\u001b[0m\u001b[0;34m[\u001b[0m\u001b[0;36m0\u001b[0m\u001b[0;34m:\u001b[0m\u001b[0;34m-\u001b[0m\u001b[0;36m1\u001b[0m\u001b[0;34m]\u001b[0m\u001b[0;34m,\u001b[0m \u001b[0mguideline_energy\u001b[0m\u001b[0;34m[\u001b[0m\u001b[0;36m0\u001b[0m\u001b[0;34m:\u001b[0m\u001b[0;34m-\u001b[0m\u001b[0;36m1\u001b[0m\u001b[0;34m]\u001b[0m\u001b[0;34m,\u001b[0m \u001b[0;34m'r'\u001b[0m\u001b[0;34m)\u001b[0m\u001b[0;34m\u001b[0m\u001b[0;34m\u001b[0m\u001b[0m\n\u001b[0m\u001b[1;32m     24\u001b[0m \u001b[0mplt\u001b[0m\u001b[0;34m.\u001b[0m\u001b[0mplot\u001b[0m\u001b[0;34m(\u001b[0m\u001b[0mpulse_t\u001b[0m\u001b[0;34m[\u001b[0m\u001b[0;36m0\u001b[0m\u001b[0;34m:\u001b[0m\u001b[0;34m-\u001b[0m\u001b[0;36m1\u001b[0m\u001b[0;34m]\u001b[0m\u001b[0;34m,\u001b[0m \u001b[0mpulse_energy\u001b[0m\u001b[0;34m[\u001b[0m\u001b[0;36m0\u001b[0m\u001b[0;34m:\u001b[0m\u001b[0;34m-\u001b[0m\u001b[0;36m1\u001b[0m\u001b[0;34m]\u001b[0m\u001b[0;34m,\u001b[0m \u001b[0;34m'g'\u001b[0m\u001b[0;34m)\u001b[0m\u001b[0;34m\u001b[0m\u001b[0;34m\u001b[0m\u001b[0m\n\u001b[1;32m     25\u001b[0m \u001b[0;34m\u001b[0m\u001b[0m\n",
      "\u001b[0;32m~/Programs/miniconda/lib/python3.7/site-packages/matplotlib/pyplot.py\u001b[0m in \u001b[0;36mplot\u001b[0;34m(scalex, scaley, data, *args, **kwargs)\u001b[0m\n\u001b[1;32m   2761\u001b[0m     return gca().plot(\n\u001b[1;32m   2762\u001b[0m         *args, scalex=scalex, scaley=scaley, **({\"data\": data} if data\n\u001b[0;32m-> 2763\u001b[0;31m         is not None else {}), **kwargs)\n\u001b[0m\u001b[1;32m   2764\u001b[0m \u001b[0;34m\u001b[0m\u001b[0m\n\u001b[1;32m   2765\u001b[0m \u001b[0;34m\u001b[0m\u001b[0m\n",
      "\u001b[0;32m~/Programs/miniconda/lib/python3.7/site-packages/matplotlib/axes/_axes.py\u001b[0m in \u001b[0;36mplot\u001b[0;34m(self, scalex, scaley, data, *args, **kwargs)\u001b[0m\n\u001b[1;32m   1644\u001b[0m         \"\"\"\n\u001b[1;32m   1645\u001b[0m         \u001b[0mkwargs\u001b[0m \u001b[0;34m=\u001b[0m \u001b[0mcbook\u001b[0m\u001b[0;34m.\u001b[0m\u001b[0mnormalize_kwargs\u001b[0m\u001b[0;34m(\u001b[0m\u001b[0mkwargs\u001b[0m\u001b[0;34m,\u001b[0m \u001b[0mmlines\u001b[0m\u001b[0;34m.\u001b[0m\u001b[0mLine2D\u001b[0m\u001b[0;34m)\u001b[0m\u001b[0;34m\u001b[0m\u001b[0;34m\u001b[0m\u001b[0m\n\u001b[0;32m-> 1646\u001b[0;31m         \u001b[0mlines\u001b[0m \u001b[0;34m=\u001b[0m \u001b[0;34m[\u001b[0m\u001b[0;34m*\u001b[0m\u001b[0mself\u001b[0m\u001b[0;34m.\u001b[0m\u001b[0m_get_lines\u001b[0m\u001b[0;34m(\u001b[0m\u001b[0;34m*\u001b[0m\u001b[0margs\u001b[0m\u001b[0;34m,\u001b[0m \u001b[0mdata\u001b[0m\u001b[0;34m=\u001b[0m\u001b[0mdata\u001b[0m\u001b[0;34m,\u001b[0m \u001b[0;34m**\u001b[0m\u001b[0mkwargs\u001b[0m\u001b[0;34m)\u001b[0m\u001b[0;34m]\u001b[0m\u001b[0;34m\u001b[0m\u001b[0;34m\u001b[0m\u001b[0m\n\u001b[0m\u001b[1;32m   1647\u001b[0m         \u001b[0;32mfor\u001b[0m \u001b[0mline\u001b[0m \u001b[0;32min\u001b[0m \u001b[0mlines\u001b[0m\u001b[0;34m:\u001b[0m\u001b[0;34m\u001b[0m\u001b[0;34m\u001b[0m\u001b[0m\n\u001b[1;32m   1648\u001b[0m             \u001b[0mself\u001b[0m\u001b[0;34m.\u001b[0m\u001b[0madd_line\u001b[0m\u001b[0;34m(\u001b[0m\u001b[0mline\u001b[0m\u001b[0;34m)\u001b[0m\u001b[0;34m\u001b[0m\u001b[0;34m\u001b[0m\u001b[0m\n",
      "\u001b[0;32m~/Programs/miniconda/lib/python3.7/site-packages/matplotlib/axes/_base.py\u001b[0m in \u001b[0;36m__call__\u001b[0;34m(self, *args, **kwargs)\u001b[0m\n\u001b[1;32m    214\u001b[0m                 \u001b[0mthis\u001b[0m \u001b[0;34m+=\u001b[0m \u001b[0margs\u001b[0m\u001b[0;34m[\u001b[0m\u001b[0;36m0\u001b[0m\u001b[0;34m]\u001b[0m\u001b[0;34m,\u001b[0m\u001b[0;34m\u001b[0m\u001b[0;34m\u001b[0m\u001b[0m\n\u001b[1;32m    215\u001b[0m                 \u001b[0margs\u001b[0m \u001b[0;34m=\u001b[0m \u001b[0margs\u001b[0m\u001b[0;34m[\u001b[0m\u001b[0;36m1\u001b[0m\u001b[0;34m:\u001b[0m\u001b[0;34m]\u001b[0m\u001b[0;34m\u001b[0m\u001b[0;34m\u001b[0m\u001b[0m\n\u001b[0;32m--> 216\u001b[0;31m             \u001b[0;32myield\u001b[0m \u001b[0;32mfrom\u001b[0m \u001b[0mself\u001b[0m\u001b[0;34m.\u001b[0m\u001b[0m_plot_args\u001b[0m\u001b[0;34m(\u001b[0m\u001b[0mthis\u001b[0m\u001b[0;34m,\u001b[0m \u001b[0mkwargs\u001b[0m\u001b[0;34m)\u001b[0m\u001b[0;34m\u001b[0m\u001b[0;34m\u001b[0m\u001b[0m\n\u001b[0m\u001b[1;32m    217\u001b[0m \u001b[0;34m\u001b[0m\u001b[0m\n\u001b[1;32m    218\u001b[0m     \u001b[0;32mdef\u001b[0m \u001b[0mget_next_color\u001b[0m\u001b[0;34m(\u001b[0m\u001b[0mself\u001b[0m\u001b[0;34m)\u001b[0m\u001b[0;34m:\u001b[0m\u001b[0;34m\u001b[0m\u001b[0;34m\u001b[0m\u001b[0m\n",
      "\u001b[0;32m~/Programs/miniconda/lib/python3.7/site-packages/matplotlib/axes/_base.py\u001b[0m in \u001b[0;36m_plot_args\u001b[0;34m(self, tup, kwargs)\u001b[0m\n\u001b[1;32m    340\u001b[0m \u001b[0;34m\u001b[0m\u001b[0m\n\u001b[1;32m    341\u001b[0m         \u001b[0;32mif\u001b[0m \u001b[0mx\u001b[0m\u001b[0;34m.\u001b[0m\u001b[0mshape\u001b[0m\u001b[0;34m[\u001b[0m\u001b[0;36m0\u001b[0m\u001b[0;34m]\u001b[0m \u001b[0;34m!=\u001b[0m \u001b[0my\u001b[0m\u001b[0;34m.\u001b[0m\u001b[0mshape\u001b[0m\u001b[0;34m[\u001b[0m\u001b[0;36m0\u001b[0m\u001b[0;34m]\u001b[0m\u001b[0;34m:\u001b[0m\u001b[0;34m\u001b[0m\u001b[0;34m\u001b[0m\u001b[0m\n\u001b[0;32m--> 342\u001b[0;31m             raise ValueError(f\"x and y must have same first dimension, but \"\n\u001b[0m\u001b[1;32m    343\u001b[0m                              f\"have shapes {x.shape} and {y.shape}\")\n\u001b[1;32m    344\u001b[0m         \u001b[0;32mif\u001b[0m \u001b[0mx\u001b[0m\u001b[0;34m.\u001b[0m\u001b[0mndim\u001b[0m \u001b[0;34m>\u001b[0m \u001b[0;36m2\u001b[0m \u001b[0;32mor\u001b[0m \u001b[0my\u001b[0m\u001b[0;34m.\u001b[0m\u001b[0mndim\u001b[0m \u001b[0;34m>\u001b[0m \u001b[0;36m2\u001b[0m\u001b[0;34m:\u001b[0m\u001b[0;34m\u001b[0m\u001b[0;34m\u001b[0m\u001b[0m\n",
      "\u001b[0;31mValueError\u001b[0m: x and y must have same first dimension, but have shapes (11999,) and (11998,)"
     ]
    },
    {
     "data": {
      "image/png": "[encoded data removed]",
      "text/plain": [
       "<Figure size 432x288 with 1 Axes>"
      ]
     },
     "metadata": {
      "needs_background": "light"
     },
     "output_type": "display_data"
    }
   ],
   "source": [
    "pulse_t = np.linspace(0,1,int(repetition_freq*10))\n",
    "\n",
    "guideline_energy_integral_J_m2 = 0\n",
    "guideline_energy = []\n",
    "\n",
    "pulse_energy_integral_J_m2 = 0\n",
    "pulse_energy = []\n",
    "\n",
    "for idx,t_ in enumerate(pulse_t[0:-1]):\n",
    "    dt = (pulse_t[idx+1]-t_)\n",
    "    \n",
    "    pulse_energy_integral_J_m2 += pulse_RF_output_power_watts * dt / exposure_area\n",
    "\n",
    "    \n",
    "    guideline_energy_integral_J_m2 = (specific_energy_j_m2(t_))       \n",
    "    guideline_energy.append(guideline_energy_integral_J_m2)\n",
    "    pulse_energy.append(pulse_energy_integral_J_m2)\n",
    "\n",
    "#wait, we could have just symbolically integrated this. oh well. \n",
    "#I guess this is more flexible in terms of step response? Nah, just being dumb.\n",
    "#no, wait, isn't that equation already an integral over energy?\n",
    "\n",
    "plt.plot(pulse_t[0:-1], guideline_energy[0:-1], 'r')\n",
    "plt.plot(pulse_t[0:-1], pulse_energy[0:-1], 'g')\n",
    "\n",
    "pulse_energy_integral * repetition_freq\n"
   ]
  },
  {
   "cell_type": "code",
   "execution_count": 40,
   "metadata": {},
   "outputs": [
    {
     "data": {
      "text/plain": [
       "0.01"
      ]
     },
     "execution_count": 40,
     "metadata": {},
     "output_type": "execute_result"
    }
   ],
   "source": [
    "pulse_energy_density_J_m2 = exposure_flux_w_m2 * pulse_duration #W/m^2\n",
    "# a typical value for the energy is 20 millijoules / m^2\n",
    "# see \\cite{Radiation1996}\n",
    "\n",
    "pulse_energy_density_J_m2"
   ]
  },
  {
   "cell_type": "raw",
   "metadata": {},
   "source": []
  },
  {
   "cell_type": "markdown",
   "metadata": {},
   "source": [
    "https://en.wikipedia.org/wiki/Penetration_depth:\n",
    "\n",
    "According to \\href{Beer-Lambert_law}{Beer-Lambert law}, the intensity of\n",
    "an electromagnetic wave inside a material falls off exponentially from\n",
    "the surface as\n",
    "\n",
    "\n",
    "$$I(z) = I_0 \\, e^{-\\alpha z}$$\n",
    "\n",
    "If $\\delta_p$ denotes the penetration depth, we have\n",
    "\n",
    "$$\\delta_p = \\frac{1}{\\alpha}$$\n",
    "\n",
    "Penetration depth is one term that describes the decay of\n",
    "electromagnetic waves inside of a material. The above definition refers\n",
    "to the depth $\\delta_p$ at which the intensity or power of the field\n",
    "decays to 1/e of its surface value. In many contexts one is\n",
    "concentrating on the field quantities themselves: the electric and\n",
    "magnetic fields in the case of electromagnetic waves. Since the power of\n",
    "a wave in a particular medium is proportional to the \\emph{square} of a\n",
    "field quantity, one may speak of a penetration depth at which the\n",
    "magnitude of the electric (or magnetic) field has decayed to 1/e of its\n",
    "surface value, and at which point the power of the wave has\n",
    "thereby decreased to $1/e^2$ or about 13\\% of its surface value:\n",
    "\n",
    "$$\\delta_e = \\frac{1}{\\alpha/2}  = \\frac{2}{\\alpha}  =  2 \\delta_p$$\n",
    "\n",
    "Note that $\\delta_e$ is identical to the \\href{skin_depth}{skin\n",
    "depth}, the latter term usually applying to metals in reference to the\n",
    "decay of electrical \\href{Electric_current}{currents} (which follow the\n",
    "decay in the electric or magnetic field due to a plane wave incident on\n",
    "a bulk conductor). The attenuation constant \\(\\alpha/2\\) is also\n",
    "identical to the (negative) real part of the\n",
    "\\href{propagation_constant}{propagation constant}, which may also be\n",
    "referred to as \\(\\alpha\\) using a notation inconsistent with the above\n",
    "use. When referencing a source one must always be careful to note\n",
    "whether a number such as \\(\\alpha\\) or \\(\\delta\\) refers to the decay of\n",
    "the field itself, or of the intensity (power) associated with that\n",
    "field. It can also be ambiguous as to whether a positive number\n",
    "describes \\url{attenuation} (reduction of the field) or\n",
    "\\href{Gain_(electronics)}{gain}; this is usually obvious from the\n",
    "context.\n",
    "\n",
    "\n",
    "(converted with pandoc --from mediawiki --to latex)"
   ]
  },
  {
   "cell_type": "code",
   "execution_count": null,
   "metadata": {},
   "outputs": [],
   "source": []
  },
  {
   "cell_type": "markdown",
   "metadata": {},
   "source": [
    "From http://niremf.ifac.cnr.it/tissprop/htmlclie/htmlclie.php\n",
    "\n",
    "\n",
    "D.Andreuccetti, R.Fossi and C.Petrucci: An Internet resource for the calculation of the dielectric properties of body tissues in the frequency range 10 Hz - 100 GHz. IFAC-CNR, Florence (Italy), 1997. Based on data published by C.Gabriel et al. in 1996. [Online]. Available: http://niremf.ifac.cnr.it/tissprop/\n",
    "\n",
    "They mention both \"penetration depth\" and \"skin depth\".\n",
    "\n"
   ]
  },
  {
   "cell_type": "markdown",
   "metadata": {},
   "source": [
    "\\cite{Safety2001}\n",
    "\n",
    "The penetration depth δ, i.e., the distance from the boundary of a medium to the point at which the field strengths or induced current\n",
    "densities have been reduced to 1/e of their initial\n",
    "boundary value in the medium, is given by (2) for a\n",
    "plane-wave incident on a planar surface.\n",
    "\n"
   ]
  },
  {
   "cell_type": "code",
   "execution_count": null,
   "metadata": {},
   "outputs": [],
   "source": []
  },
  {
   "cell_type": "code",
   "execution_count": null,
   "metadata": {},
   "outputs": [],
   "source": []
  },
  {
   "cell_type": "code",
   "execution_count": 24,
   "metadata": {},
   "outputs": [
    {
     "data": {
      "text/plain": [
       "25.57997904877041"
      ]
     },
     "execution_count": 24,
     "metadata": {},
     "output_type": "execute_result"
    }
   ],
   "source": [
    "#First-order Penetration depth from \n",
    "# Osepchuk\n",
    "# Raymond Kwok\n",
    "# and Hand\n",
    "# might have the wrong formula, however.\n",
    "input_field = 50000.0\n",
    "required_field = 300.0\n",
    "\n",
    "factor = required_field/input_field\n",
    "\n",
    "#Hand 1982 \n",
    "# 40 mm for dry tissue,\n",
    "# 5 mm for wet \n",
    "# at 8 GHz.\n",
    "gamma = 0.005\n",
    "\n",
    "depth = log(1.0/(factor))*gamma # this is not right.\n",
    "depth*1000.0\n",
    "\n"
   ]
  },
  {
   "cell_type": "code",
   "execution_count": null,
   "metadata": {},
   "outputs": [],
   "source": []
  },
  {
   "cell_type": "code",
   "execution_count": null,
   "metadata": {},
   "outputs": [],
   "source": []
  }
 ],
 "metadata": {
  "kernelspec": {
   "display_name": "Python 3",
   "language": "python",
   "name": "python3"
  },
  "language_info": {
   "codemirror_mode": {
    "name": "ipython",
    "version": 3
   },
   "file_extension": ".py",
   "mimetype": "text/x-python",
   "name": "python",
   "nbconvert_exporter": "python",
   "pygments_lexer": "ipython3",
   "version": "3.7.6"
  }
 },
 "nbformat": 4,
 "nbformat_minor": 2
}
