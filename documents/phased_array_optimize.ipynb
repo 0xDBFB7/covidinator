{
 "cells": [
  {
   "cell_type": "code",
   "execution_count": 13,
   "metadata": {},
   "outputs": [],
   "source": [
    "from math import sin, cos, pi, sqrt, e, log, isclose, exp\n",
    "from scipy.optimize import curve_fit\n",
    "import numpy as np\n",
    "import matplotlib.pyplot as plt\n",
    "from matplotlib import colors, cm, pyplot as plt\n",
    "\n",
    "import h5py\n",
    "from scipy.constants import epsilon_0, mu_0\n",
    "import scipy.constants"
   ]
  },
  {
   "cell_type": "markdown",
   "metadata": {},
   "source": [
    "We want to quickly determine how effective dipole phased-array focusing will actually be; \n",
    "\n",
    "This is essentially \\cite{Analysis2000}; however, the radiation pattern of the waveguide applicators is not particularly appropriate for this problem.\n",
    "\n"
   ]
  },
  {
   "cell_type": "code",
   "execution_count": null,
   "metadata": {},
   "outputs": [],
   "source": [
    "\n"
   ]
  },
  {
   "cell_type": "markdown",
   "metadata": {},
   "source": [
    "A half-wave dipole is used. \\cite{Halfwave}  \\cite{Analysis2013}\n",
    "\n"
   ]
  },
  {
   "cell_type": "markdown",
   "metadata": {},
   "source": [
    "We define the following notation:\n",
    "    \n",
    "    \n",
    "$\\vec{K_{focal}}$ (X, 0, Z) is that from element k to the focal point\n",
    "\n",
    "the focal point itself is $\\vec{A_{focal}}$\n",
    "\n",
    "The vector $\\vec{K_{sample}}$ is that from element k to the sample point\n",
    "\n",
    "\n"
   ]
  },
  {
   "cell_type": "code",
   "execution_count": null,
   "metadata": {},
   "outputs": [],
   "source": []
  },
  {
   "cell_type": "markdown",
   "metadata": {},
   "source": [
    "https://en.wikipedia.org/wiki/Dipole_antenna:\n",
    "\n",
    "$${\\displaystyle E_{\\theta }={\\frac {\\zeta _{0}I_{0}}{2\\pi r}}{\\frac {\\cos \\left({\\frac {\\pi }{2}}\\cos \\theta \\right)}{\\sin \\theta }}\\sin {(\\omega t - (\\phi_{focus} - \\phi_{sample})}.}$$\n",
    "\n",
    "k is the spatial wavenumber \n",
    "\n",
    "$$P_{\\text{total}}={\\frac {1}{2}}I_{0}^{2}R_{\\text{radiation}}$$\n",
    "\n",
    "$$\\sqrt{\\frac{P_{\\text{total}}}{{\\frac {1}{2}}R_{\\text{radiation}}}}=I_{0}$$\n",
    "\n",
    "where ${\\displaystyle R_{\\text{radiation}}\\approx 73.1\\ \\Omega .}$"
   ]
  },
  {
   "cell_type": "markdown",
   "metadata": {},
   "source": []
  },
  {
   "cell_type": "markdown",
   "metadata": {},
   "source": [
    "To first simplify for the 2D case, \n",
    "\n",
    "$${\\displaystyle E_{\\theta }={\\frac {\\zeta _{0}I_{0}}{2\\pi R}}}{\\sin {((2 \\pi f) t - (\\phi_{foc} - \\phi_{sample})}.}$$\n",
    "\n",
    "$$\\phi = k L$$"
   ]
  },
  {
   "cell_type": "code",
   "execution_count": 8,
   "metadata": {},
   "outputs": [
    {
     "ename": "SyntaxError",
     "evalue": "invalid syntax (<ipython-input-8-de5dfacd19f6>, line 1)",
     "output_type": "error",
     "traceback": [
      "\u001b[0;36m  File \u001b[0;32m\"<ipython-input-8-de5dfacd19f6>\"\u001b[0;36m, line \u001b[0;32m1\u001b[0m\n\u001b[0;31m    The electric field at the point is {the sum over { each antenna's field * { the lengths of each radius in  } } }\u001b[0m\n\u001b[0m               ^\u001b[0m\n\u001b[0;31mSyntaxError\u001b[0m\u001b[0;31m:\u001b[0m invalid syntax\n"
     ]
    }
   ],
   "source": [
    "The electric field at the point is {the sum over { each antenna's field * { the lengths of each radius in  } } }"
   ]
  },
  {
   "cell_type": "markdown",
   "metadata": {},
   "source": [
    "\n",
    "Tissue thickness is T_z"
   ]
  },
  {
   "cell_type": "markdown",
   "metadata": {},
   "source": [
    "$$k_{tissue} = 2 pi f \\sqrt{\\epsilon_r \\epsilon_0 \\mu_r \\mu_0}$$\n",
    "\n",
    "the length in each tissue is $$\\frac{|K_{focal}|}{K_{focal[Z]}} (L_t)$$\n"
   ]
  },
  {
   "cell_type": "markdown",
   "metadata": {},
   "source": [
    "$$  \\phi_{focal[K]} = \\sum_{tissue}{k_{tissue} \\frac{|K_{focal}|}{K_{focal[Z]}} (L_{tissue})}$$"
   ]
  },
  {
   "cell_type": "markdown",
   "metadata": {},
   "source": [
    "Similarly, attenuation $\\alpha$ due to electric field penetration depth $\\gamma_{tissue}$, is \n",
    "\n",
    "$$ \\alpha =  \\left|_{tissue=0} {\\exp(- \\gamma_{tissue} \\frac{|K_{sample}|}{K_{sample[Z]}} (L_{tissue}))} \\right. $$\n",
    "\n",
    "$$ \\beta =  \\left|_{tissue=0} \\eta_{tissue+1} \\right. $$\n",
    "\n",
    "where $\\eta$ is the refractive indice."
   ]
  },
  {
   "cell_type": "code",
   "execution_count": null,
   "metadata": {},
   "outputs": [],
   "source": []
  },
  {
   "cell_type": "code",
   "execution_count": 44,
   "metadata": {},
   "outputs": [
    {
     "ename": "SyntaxError",
     "evalue": "invalid syntax (<ipython-input-44-d3a3cb458473>, line 1)",
     "output_type": "error",
     "traceback": [
      "\u001b[0;36m  File \u001b[0;32m\"<ipython-input-44-d3a3cb458473>\"\u001b[0;36m, line \u001b[0;32m1\u001b[0m\n\u001b[0;31m    For a single tissue, that's\u001b[0m\n\u001b[0m        ^\u001b[0m\n\u001b[0;31mSyntaxError\u001b[0m\u001b[0;31m:\u001b[0m invalid syntax\n"
     ]
    }
   ],
   "source": [
    "For a single tissue, that's \n",
    "\n",
    "antenna_resistance = 73.1\n",
    "\n",
    "I = sqrt(power / (0.5 * antenna_resistance))\n",
    "\n",
    "k_x = (-1.0*spacing*((max_k-1)/2.0))+(k*spacing)\n",
    "\n",
    "D_focal = sqrt((k_x**2.0) + (0-focal_z)**2.0) - sqrt(focal_z**2.0)\n",
    "\n",
    "D_sample = sqrt((sample_x-k_x)**2 + (sample_z)**2)\n",
    "\n",
    "alpha = exp(-1.0 * (D_sample / tissue_gamma))\n",
    "\n",
    "k_tissue = 2 * pi * f * sqrt(eps_0 * eps_tissue * mu_0)\n",
    "\n",
    "E_k = 1.0/(2.0 * pi) * eta * I * 1.0/(D_sample) * sin((k_tissue * D_focal) - (k_tissue * D_sample)) * alpha\n",
    "\n",
    "E = sum(E_k, k, 0, max_k)\n",
    "\n",
    "sum1: sum(1/x^2, x, 1, inf);\n"
   ]
  },
  {
   "cell_type": "markdown",
   "metadata": {},
   "source": [
    "What amplitude weighting should we use? We're not super concerned about sidelobes, just getting the maximum power; therefore I think flat will be fine."
   ]
  },
  {
   "cell_type": "code",
   "execution_count": 202,
   "metadata": {
    "scrolled": true
   },
   "outputs": [
    {
     "ename": "IndexError",
     "evalue": "invalid index to scalar variable.",
     "output_type": "error",
     "traceback": [
      "\u001b[0;31m---------------------------------------------------------------------------\u001b[0m",
      "\u001b[0;31mIndexError\u001b[0m                                Traceback (most recent call last)",
      "\u001b[0;32m<ipython-input-202-8d8260ecb5aa>\u001b[0m in \u001b[0;36m<module>\u001b[0;34m\u001b[0m\n\u001b[1;32m     59\u001b[0m \u001b[0mE\u001b[0m \u001b[0;34m=\u001b[0m \u001b[0mnp\u001b[0m\u001b[0;34m.\u001b[0m\u001b[0mabs\u001b[0m\u001b[0;34m(\u001b[0m\u001b[0mE\u001b[0m\u001b[0;34m)\u001b[0m\u001b[0;34m\u001b[0m\u001b[0;34m\u001b[0m\u001b[0m\n\u001b[1;32m     60\u001b[0m \u001b[0;34m\u001b[0m\u001b[0m\n\u001b[0;32m---> 61\u001b[0;31m \u001b[0mprint\u001b[0m\u001b[0;34m(\u001b[0m\u001b[0mE\u001b[0m\u001b[0;34m[\u001b[0m\u001b[0;36m0\u001b[0m\u001b[0;34m]\u001b[0m\u001b[0;34m,\u001b[0m \u001b[0mE\u001b[0m\u001b[0;34m[\u001b[0m\u001b[0mnp\u001b[0m\u001b[0;34m.\u001b[0m\u001b[0mshape\u001b[0m\u001b[0;34m(\u001b[0m\u001b[0mE\u001b[0m\u001b[0;34m)\u001b[0m\u001b[0;34m[\u001b[0m\u001b[0;36m0\u001b[0m\u001b[0;34m]\u001b[0m\u001b[0;34m//\u001b[0m\u001b[0;36m2\u001b[0m\u001b[0;34m]\u001b[0m\u001b[0;34m)\u001b[0m\u001b[0;34m\u001b[0m\u001b[0;34m\u001b[0m\u001b[0m\n\u001b[0m\u001b[1;32m     62\u001b[0m \u001b[0;34m\u001b[0m\u001b[0m\n\u001b[1;32m     63\u001b[0m \u001b[0;31m# print(E[:][0])\u001b[0m\u001b[0;34m\u001b[0m\u001b[0;34m\u001b[0m\u001b[0;34m\u001b[0m\u001b[0m\n",
      "\u001b[0;31mIndexError\u001b[0m: invalid index to scalar variable."
     ]
    }
   ],
   "source": [
    "def linear_single_tissue_E_test(sample_x, sample_z, focal_z, tissue_gamma, eps_tissue, max_k, spacing, f, power):\n",
    "    E = 0\n",
    "    \n",
    "    antenna_resistance = 73.1\n",
    "    eta = scipy.constants.value(\"characteristic impedance of vacuum\")\n",
    "\n",
    "    for k in range(0, max_k):\n",
    "        \n",
    "        k_x = (-1.0*spacing*((max_k-1)/2.0))+(k*spacing)\n",
    "        \n",
    "        D_focal = np.sqrt((k_x**2.0) + (0-focal_z)**2.0) - np.sqrt(focal_z**2.0)\n",
    "\n",
    "        D_sample = np.sqrt((sample_x-k_x)**2 + (sample_z)**2)\n",
    "\n",
    "        \n",
    "        alpha = np.exp(-1.0 * (D_sample/ tissue_gamma))\n",
    "        \n",
    "\n",
    "        I = np.sqrt(power / (0.5 * antenna_resistance))\n",
    "\n",
    "        \n",
    "        k_tissue = 2 * pi * f * np.sqrt(epsilon_0 * eps_tissue * mu_0)\n",
    "\n",
    "        E_k = 1.0/(2.0 * pi) * eta * I * 1.0/(D_sample) * np.sin((k_tissue * D_focal) - (k_tissue * D_sample)) * alpha\n",
    "        \n",
    "        E += E_k\n",
    "        \n",
    "    return E\n",
    "\n",
    "focal_z = 0.04\n",
    "sample_x = 0\n",
    "sample_z = focal_z\n",
    "tissue_gamma = 0.007\n",
    "eps_tissue = 50.0\n",
    "max_k = 5\n",
    "\n",
    "f = 9e9\n",
    "power = 20000.0\n",
    "\n",
    "k_tissue = 2 * pi * f * np.sqrt(epsilon_0 * eps_tissue * mu_0)\n",
    "\n",
    "\n",
    "spacing = 1.0/k_tissue\n",
    "# spacing = np.linspace(1.0/10000.0, 1.0/10, 50)\n",
    "# print(spacing)\n",
    "\n",
    "\n",
    "\n",
    "\n",
    "\n",
    "# sample_x = np.linspace(-focal_z, focal_z, 100)\n",
    "# sample_z = np.linspace(focal_z*0.25, focal_z*2, 100)\n",
    "\n",
    "# sample_x, sample_z = np.meshgrid(sample_x, sample_z)\n",
    "\n",
    "\n",
    "E = linear_single_tissue_E_test(sample_x, sample_z, focal_z, tissue_gamma, eps_tissue, max_k, spacing, f, power)\n",
    "\n",
    "E = np.abs(E)\n",
    "\n",
    "print(E[0], E[np.shape(E)[0]//2])\n",
    "\n",
    "# print(E[:][0])\n",
    "\n",
    "# plt.plot(spacing, E[:])\n",
    "\n",
    "# fig, ax = plt.subplots()\n",
    "# cs = ax.imshow(E, cmap=cm.plasma, norm=colors.LogNorm())\n",
    "# cbar = fig.colorbar(cs)\n",
    "\n",
    "# plt.plot(E)\n",
    "\n"
   ]
  },
  {
   "cell_type": "code",
   "execution_count": null,
   "metadata": {},
   "outputs": [],
   "source": []
  },
  {
   "cell_type": "markdown",
   "metadata": {},
   "source": [
    "\n"
   ]
  },
  {
   "cell_type": "code",
   "execution_count": null,
   "metadata": {},
   "outputs": [],
   "source": []
  },
  {
   "cell_type": "code",
   "execution_count": null,
   "metadata": {},
   "outputs": [],
   "source": [
    "heck yeah, I love 'maxima'."
   ]
  },
  {
   "cell_type": "code",
   "execution_count": null,
   "metadata": {},
   "outputs": [],
   "source": []
  }
 ],
 "metadata": {
  "kernelspec": {
   "display_name": "Python 3",
   "language": "python",
   "name": "python3"
  }
 },
 "nbformat": 4,
 "nbformat_minor": 4
}
