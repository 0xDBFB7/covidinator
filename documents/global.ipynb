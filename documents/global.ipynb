{
 "cells": [
  {
   "cell_type": "code",
   "execution_count": 2,
   "metadata": {},
   "outputs": [],
   "source": [
    "import numpy as np\n",
    "from scipy.integrate import odeint\n",
    "import matplotlib.pyplot as plt\n",
    "import math"
   ]
  },
  {
   "cell_type": "code",
   "execution_count": null,
   "metadata": {},
   "outputs": [],
   "source": []
  },
  {
   "cell_type": "markdown",
   "metadata": {},
   "source": [
    "\n",
    "\n",
    "> Roos WH, Wuite GJL. Nanoindentation Studies Reveal Material Properties of Viruses. Adv Mater 2009;21:1187–92. https://doi.org/10.1002/adma.200801709.\n",
    "\n",
    "\n",
    "\n"
   ]
  },
  {
   "cell_type": "code",
   "execution_count": null,
   "metadata": {},
   "outputs": [],
   "source": [
    "\n",
    "\n",
    "\n"
   ]
  },
  {
   "cell_type": "code",
   "execution_count": null,
   "metadata": {},
   "outputs": [],
   "source": []
  },
  {
   "cell_type": "markdown",
   "metadata": {},
   "source": [
    "# Manufacturing\n",
    "\n"
   ]
  },
  {
   "cell_type": "code",
   "execution_count": 7,
   "metadata": {},
   "outputs": [
    {
     "data": {
      "text/plain": [
       "84900.0"
      ]
     },
     "execution_count": 7,
     "metadata": {},
     "output_type": "execute_result"
    }
   ],
   "source": [
    "#Argon tank capacity\n",
    "ar_tank = 80 #cu.ft at STP\n",
    "ar_tank *= 0.0283 #to cubic meters\n",
    "ar_tank /= (1/15) # backfill pressure\n",
    "\n",
    "chamber_volume = 0.04*0.1*0.1\n",
    "\n",
    "ar_tank / chamber_volume\n",
    "\n",
    "\n",
    "\n"
   ]
  },
  {
   "cell_type": "code",
   "execution_count": 52,
   "metadata": {},
   "outputs": [
    {
     "data": {
      "text/plain": [
       "20.288000000000004"
      ]
     },
     "execution_count": 52,
     "metadata": {},
     "output_type": "execute_result"
    }
   ],
   "source": [
    "# Alumina per shot\n",
    "\n",
    "mix_density = 4.0 #g/cc\n",
    "mix_density *= 1e6 #g/m^3\n",
    "\n",
    "board_volume = (0.00078)*0.07*0.07\n",
    "\n",
    "board_volume * mix_density\n",
    "board_volume * mix_density + 5.0 #waste"
   ]
  },
  {
   "cell_type": "markdown",
   "metadata": {},
   "source": [
    "#### Multi-layer insulation\n",
    "\n",
    "From Wikipedia (https://en.wikipedia.org/wiki/Multi-layer_insulation):\n",
    "\n",
    "Simplified two-flux method:\n",
    "\n",
    "$ Q=UA\\Delta T$\n",
    "\n",
    "$ U = 4 \\sigma T_{average}^3 \\frac{1}{N(2/\\epsilon-1)+1}$\n",
    "\n",
    "Where $\\sigma$ is the Stefan-Boltzmann constant, Delta T is the temperature difference between the interior and exterior layers, and T_average is the average temperature of all the layers. This breaks if the layer temperature difference is enormous.\n",
    "\n",
    "https://ntrs.nasa.gov/archive/nasa/casi.ntrs.nasa.gov/20080013560.pdf\n",
    "\n",
    "For comparison, alumina silicate insulation is typically 0.12 W/(m K)."
   ]
  },
  {
   "cell_type": "code",
   "execution_count": 16,
   "metadata": {},
   "outputs": [
    {
     "data": {
      "text/plain": [
       "563.1283526602356"
      ]
     },
     "execution_count": 16,
     "metadata": {},
     "output_type": "execute_result"
    }
   ],
   "source": [
    "Thot = 1200.0+273.15 #Kelvin\n",
    "Tcold = 273.0 #Kelvin\n",
    "Tave = (Thot + Tcold) / 2.0 #Not accurate\n",
    "\n",
    "area = (0.0254*2+0.045*2)*0.05 + 0.0254*0.045*2\n",
    "\n",
    "N = 2\n",
    "emissivity = 1\n",
    "\n",
    "Q = area*(Thot - Tcold)* (Tave**3.0)*4.0*(5.67e-8)*(1.0/(N*((2.0/emissivity) - 1.0)+1.0))\n",
    "Q\n"
   ]
  },
  {
   "cell_type": "code",
   "execution_count": 49,
   "metadata": {},
   "outputs": [
    {
     "data": {
      "text/plain": [
       "112.34636042534004"
      ]
     },
     "execution_count": 49,
     "metadata": {},
     "output_type": "execute_result"
    }
   ],
   "source": []
  },
  {
   "cell_type": "code",
   "execution_count": 29,
   "metadata": {},
   "outputs": [
    {
     "data": {
      "text/plain": [
       "29.530970943744077"
      ]
     },
     "execution_count": 29,
     "metadata": {},
     "output_type": "execute_result"
    }
   ],
   "source": [
    "vol = (math.pi*((0.048/2.0)**2.0) - math.pi*(((0.048/2.0)-0.001)**2.0)) * 0.05\n",
    "\n",
    "(vol / 1e-6)*4\n",
    "\n",
    "(vol / 1e-6)*4\n"
   ]
  },
  {
   "cell_type": "code",
   "execution_count": null,
   "metadata": {},
   "outputs": [],
   "source": []
  },
  {
   "cell_type": "markdown",
   "metadata": {},
   "source": [
    "# Required market penetration\n",
    "\n",
    "SIR epidemic model from:\n",
    "\n",
    "https://scipython.com/book/chapter-8-scipy/additional-examples/the-sir-epidemic-model/\n",
    "\n",
    "(Thanks!)"
   ]
  },
  {
   "cell_type": "code",
   "execution_count": 27,
   "metadata": {},
   "outputs": [
    {
     "data": {
      "image/png": "[encoded data removed]",
      "text/plain": [
       "<Figure size 432x288 with 1 Axes>"
      ]
     },
     "metadata": {},
     "output_type": "display_data"
    }
   ],
   "source": [
    "# Total population, N.\n",
    "N = 7000000000.0\n",
    "# Initial number of infected and recovered individuals, I0 and R0.\n",
    "I0, R0 = 1000000, 50000\n",
    "# Everyone else, S0, is susceptible to infection initially.\n",
    "S0 = N - I0 - R0\n",
    "# Contact rate, beta, and mean recovery rate, gamma, (in 1/days).\n",
    "# β describes the effective contact rate of the disease: \n",
    "# an infected individual comes into contact with βN other individuals per unit time\n",
    "beta, gamma = 0.2, 1./20 \n",
    "# A grid of time points (in days)\n",
    "t = np.linspace(0, 300, 300)\n",
    "\n",
    "# The SIR model differential equations.\n",
    "def deriv(y, t, N, beta, gamma):\n",
    "    S, I, R = y\n",
    "    dSdt = -beta * S * I / N\n",
    "    dIdt = beta * S * I / N - gamma * I\n",
    "    dRdt = gamma * I\n",
    "    return dSdt, dIdt, dRdt\n",
    "\n",
    "# Initial conditions vector\n",
    "y0 = S0, I0, R0\n",
    "# Integrate the SIR equations over the time grid, t.\n",
    "ret = odeint(deriv, y0, t, args=(N, beta, gamma))\n",
    "S, I, R = ret.T\n",
    "\n",
    "# Plot the data on three separate curves for S(t), I(t) and R(t)\n",
    "fig = plt.figure(facecolor='w')\n",
    "ax = fig.add_subplot(111, axisbelow=True)\n",
    "ax.plot(t, S/N, 'b', alpha=0.5, lw=2, label='Susceptible')\n",
    "ax.plot(t, I/N, 'r', alpha=0.5, lw=2, label='Infected')\n",
    "ax.plot(t, R/N, 'g', alpha=0.5, lw=2, label='Recovered with immunity')\n",
    "ax.set_xlabel('Time /days')\n",
    "ax.set_ylabel('Number (1000s)')\n",
    "ax.set_ylim(0,1.2)\n",
    "ax.yaxis.set_tick_params(length=0)\n",
    "ax.xaxis.set_tick_params(length=0)\n",
    "ax.grid(b=True, which='major', c='w', lw=2, ls='-')\n",
    "legend = ax.legend()\n",
    "legend.get_frame().set_alpha(0.5)\n",
    "for spine in ('top', 'right', 'bottom', 'left'):\n",
    "    ax.spines[spine].set_visible(False)\n",
    "plt.show()"
   ]
  },
  {
   "cell_type": "code",
   "execution_count": null,
   "metadata": {},
   "outputs": [],
   "source": []
  }
 ],
 "metadata": {
  "kernelspec": {
   "display_name": "Python 3",
   "language": "python",
   "name": "python3"
  },
  "language_info": {
   "codemirror_mode": {
    "name": "ipython",
    "version": 3
   },
   "file_extension": ".py",
   "mimetype": "text/x-python",
   "name": "python",
   "nbconvert_exporter": "python",
   "pygments_lexer": "ipython3",
   "version": "3.5.3"
  }
 },
 "nbformat": 4,
 "nbformat_minor": 2
}
