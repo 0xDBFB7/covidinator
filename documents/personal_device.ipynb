{
 "cells": [
  {
   "cell_type": "code",
   "execution_count": 25,
   "metadata": {},
   "outputs": [],
   "source": [
    "max_k = 40\n",
    "\n",
    "f = 9e9\n",
    "element_power = 0.010 #per element\n"
   ]
  },
  {
   "cell_type": "code",
   "execution_count": 26,
   "metadata": {},
   "outputs": [
    {
     "name": "stdout",
     "output_type": "stream",
     "text": [
      "6000.0\n",
      "0.3993055555555555\n"
     ]
    }
   ],
   "source": [
    "#Max sneeze particle velocity is 6 m/s. [Nishimura 2013]\n",
    "\n",
    "#the particle can travel 0.002 m per pulse.\n",
    "\n",
    "max_velocity = 6.0 \n",
    "max_allowable_distance = 0.001 #m\n",
    "max_interval = max_allowable_distance/max_velocity\n",
    "\n",
    "repetition_freq = 1.0/max_interval\n",
    "\n",
    "print(repetition_freq)\n",
    "\n",
    "pulse_duration = 500e-9 #seconds\n",
    "\n",
    "\n",
    "duty_cycle = repetition_freq * pulse_duration \n",
    "\n",
    "pulse_power_draw = 10.0*pulse_RF_output_power_watts # - not equivalent to the RF output power, do note\n",
    "\n",
    "average_power = duty_cycle * pulse_power_draw #watts\n",
    "\n",
    "#battery_capacity = 0.1575 #watt-hours - a single LR44 zinc cell\n",
    "battery_capacity = 2.0 * 1.725 # AAA battery\n",
    "\n",
    "battery_life_months = (battery_capacity / average_power) / 24 / 30 # months\n",
    "\n",
    "print(battery_life_months)"
   ]
  },
  {
   "cell_type": "code",
   "execution_count": 29,
   "metadata": {},
   "outputs": [
    {
     "data": {
      "text/plain": [
       "0.6"
      ]
     },
     "execution_count": 29,
     "metadata": {},
     "output_type": "execute_result"
    }
   ],
   "source": [
    "pulse_RF_output_power_watts = max_k * element_power # watts\n",
    "\n",
    "exposure_area = (max_k * 0.01 * 0.005) #m\n",
    "\n",
    "exposure_flux_w_m2 = pulse_RF_output_power_watts / exposure_area\n",
    "exposure_flux_w_m2 *= duty_cycle\n",
    "\n",
    "exposure_flux_w_m2"
   ]
  },
  {
   "cell_type": "code",
   "execution_count": 34,
   "metadata": {},
   "outputs": [
    {
     "data": {
      "text/plain": [
       "2.532"
      ]
     },
     "execution_count": 34,
     "metadata": {},
     "output_type": "execute_result"
    }
   ],
   "source": [
    "peak_electric_field = 844.0 \n",
    "\n",
    "average_electric_field = peak_electric_field * duty_cycle\n",
    "\n",
    "average_electric_field"
   ]
  }
 ],
 "metadata": {
  "kernelspec": {
   "display_name": "Python 3",
   "language": "python",
   "name": "python3"
  },
  "language_info": {
   "codemirror_mode": {
    "name": "ipython",
    "version": 3
   },
   "file_extension": ".py",
   "mimetype": "text/x-python",
   "name": "python",
   "nbconvert_exporter": "python",
   "pygments_lexer": "ipython3",
   "version": "3.7.6"
  }
 },
 "nbformat": 4,
 "nbformat_minor": 4
}
