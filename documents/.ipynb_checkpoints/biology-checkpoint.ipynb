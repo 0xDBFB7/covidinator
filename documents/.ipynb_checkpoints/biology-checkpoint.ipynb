{
 "cells": [
  {
   "cell_type": "code",
   "execution_count": 19,
   "metadata": {},
   "outputs": [],
   "source": [
    "from math import pi, sqrt\n",
    "from scipy.optimize import curve_fit\n",
    "import numpy as np\n",
    "import matplotlib.pyplot as plt\n"
   ]
  },
  {
   "cell_type": "code",
   "execution_count": 2,
   "metadata": {},
   "outputs": [],
   "source": [
    "#[Lauffer 1944]: diameter 109 +/- 16.65 nm\n",
    "#[Ruigrok 1984]: diameter 115 +/- 12 nm\n",
    "\n",
    "#57.5 avg to 63.5 nm \n",
    "\n",
    "sigma_diameter = (16.65+12)/2.0\n",
    "\n",
    "#[Ruigrok 1984]: mass 160 MDa +/- 17 MDa\n",
    "sigma_mass = (17.0+24.0)/2.0\n",
    "\n",
    "sigma_breaking_strength = (17.0+24.0)/2.0\n"
   ]
  },
  {
   "cell_type": "code",
   "execution_count": 6,
   "metadata": {},
   "outputs": [
    {
     "data": {
      "text/plain": [
       "42.02451323251418"
      ]
     },
     "execution_count": 6,
     "metadata": {},
     "output_type": "execute_result"
    }
   ],
   "source": [
    "avg_dia = 57.5 \n",
    "one_sigma_pos_dia = avg_dia + sigma_diameter\n",
    "volume_sigma = (((4/3.0) * pi * (one_sigma_pos_dia)**2.0)/((4/3.0) * pi * (avg_dia)**2.0))-1.0\n",
    "volume_sigma\n",
    "avg_mass = 75\n",
    "one_sigma_mass = avg_mass*volume_sigma\n",
    "one_sigma_mass\n"
   ]
  },
  {
   "cell_type": "code",
   "execution_count": null,
   "metadata": {},
   "outputs": [],
   "source": []
  },
  {
   "cell_type": "code",
   "execution_count": 4,
   "metadata": {},
   "outputs": [],
   "source": [
    "#Extracted from [Li 2011] using https://apps.automeris.io/wpd/,\n",
    "\n",
    "count = [2.9816513761467904,\n",
    "6.0091743119266035,\n",
    "15.045871559633028,\n",
    "21.14678899082569,\n",
    "17.93577981651376,\n",
    "11.10091743119266,\n",
    "11.972477064220184,\n",
    "11.972477064220184,\n",
    "15.458715596330272,\n",
    "8.119266055045873,\n",
    "19.174311926605505,\n",
    "9.908256880733944,\n",
    "6.834862385321103,\n",
    "5.045871559633027,\n",
    "7.018348623853214,\n",
    "2.018348623853214,\n",
    "1.0091743119266046]\n",
    "\n",
    "\n",
    "breaking_force = [0.24179620034542312,\n",
    "0.33851468048359246,\n",
    "0.4421416234887737,\n",
    "0.5423143350604491,\n",
    "0.6528497409326425,\n",
    "0.753022452504318,\n",
    "0.8186528497409327,\n",
    "0.9395509499136444,\n",
    "1.0466321243523315,\n",
    "1.143350604490501,\n",
    "1.2469775474956826,\n",
    "1.3506044905008636,\n",
    "1.4300518134715028,\n",
    "1.5474956822107082,\n",
    "1.6165803108808294,\n",
    "1.7305699481865287,\n",
    "1.9412780656303976]"
   ]
  },
  {
   "cell_type": "code",
   "execution_count": 11,
   "metadata": {},
   "outputs": [
    {
     "data": {
      "text/plain": [
       "0.8407145507834908"
      ]
     },
     "execution_count": 11,
     "metadata": {},
     "output_type": "execute_result"
    }
   ],
   "source": [
    "def gaussian(x, mean, amplitude, standard_deviation):\n",
    "    return amplitude * np.exp( - ((x - mean) / standard_deviation) ** 2)\n",
    "\n",
    "popt, _ = curve_fit(gaussian, breaking_force, count)\n",
    "mean_breaking_force = popt[0]\n",
    "sigma_breaking_force = popt[2]\n",
    "\n",
    "mean_breaking_force\n",
    "\n"
   ]
  },
  {
   "cell_type": "markdown",
   "metadata": {},
   "source": [
    "We very simply extend [Yang 2015]'s analysis to include the distribution of viral particles. We continue using H3N1 rather than the target SARS-NCoV-2 because of an apparent lack of AFM data.\n",
    "\n",
    "    The majority of virions (n = 78) may be described as spherical (axial ratio 1.2), the remainder are oval or   kidney-shaped with axial ratios up to 1.4 (n = 17) or more elongated with axial ratios as high as 7.7 (n = 15). The outer diameters of the spherical virions ranged from 84 to 170 nm (mean, 120 nm).\n",
    "\n",
    "Note that, per [Lauffer 1944], of Inf A and B, \"the infectious particles have diameters within the range 80 to 135[nm]\".\n",
    "\n",
    "[Yang 2015]'s MDCK plaque assay is already sensitive to infectivity; the extreme-sized non-infective mutants would already be filtered out. Their PCR assay might not be; the DNA of all non-infectious mutants would be considered.\n",
    "\n",
    "[Yang 2015] use a minimum force of 400 pN, citing [Li 2011]:\n",
    "\n",
    "> More than 95% puncture events occurred above 0.4 nN.\n",
    "\n",
    "This probably accounts for the high 100% threshold.\n",
    "\n",
    "The mass, diameter, and breaking force are presumably not independently distributed. The correlations between the three variables do not seem to be documented in the literature.\n",
    "\n",
    "There seems to be little variation in the mass of the spike proteins; intact H3N1 is 161 MDa +/- 17, with spikes removed, 75 MDa +/- 17.  [Ruigrok 1984]  \n",
    "\n",
    "The average stiffness of the liposome varies approximately linearly from 0.025 to 0.015 from 80 to 135 nm [Li 2011], plus a random distribution with approx. 0.0025 sigma. \n",
    "\n",
    "Size and weight are assumed to be uncorrelated with breaking strength.\n",
    "\n",
    "\n",
    "From [Yang 2015], eq. 7,\n",
    "\n",
    "$ A = \\frac{q E_0}{\\mu \\sqrt{((2 \\pi f_{res})^2 - (2 \\pi f_{excite})^2)^2 + \\left(\\frac{(2 \\pi f_{res})(2 \\pi f_{excite})}{Q}\\right)^2}} $\n",
    "\n",
    "\n",
    "The resonant frequency varies as $\\sqrt{k/m^*}$.\n",
    "\n"
   ]
  },
  {
   "cell_type": "code",
   "execution_count": null,
   "metadata": {},
   "outputs": [],
   "source": []
  },
  {
   "cell_type": "code",
   "execution_count": 35,
   "metadata": {
    "scrolled": true
   },
   "outputs": [
    {
     "data": {
      "text/plain": [
       "0.00019199999999999998"
      ]
     },
     "execution_count": 35,
     "metadata": {},
     "output_type": "execute_result"
    }
   ],
   "source": [
    "#Max sneeze particle velocity is 6 m/s. [Nishimura 2013]\n",
    "\n",
    "#the particle can travel 0.005 m per pulse.\n",
    "\n",
    "max_velocity = 6.0 \n",
    "max_allowable_distance = 0.005 #m\n",
    "max_interval = max_allowable_distance/max_velocity\n",
    "\n",
    "repetition_freq = 1.0/max_interval\n",
    "\n",
    "\n",
    "pulse_duration = 1e-6 #seconds\n",
    "\n",
    "\n",
    "duty_cycle = repetition_freq * pulse_duration \n",
    "\n",
    "pulse_power_draw = 2.0*80e-3 # volts * amps - not equivalent to the RF output power, do note\n",
    "\n",
    "average_power = duty_cycle * pulse_power #watts\n",
    "\n",
    "#battery_capacity = 0.1575 #watt-hours - a single LR44 zinc cell\n",
    "battery_capacity = 1.725\n",
    "\n",
    "battery_life_months = (battery_capacity / average_power) / 24 / 30 # months\n"
   ]
  },
  {
   "cell_type": "code",
   "execution_count": 81,
   "metadata": {},
   "outputs": [
    {
     "data": {
      "text/plain": [
       "1250.0"
      ]
     },
     "execution_count": 81,
     "metadata": {},
     "output_type": "execute_result"
    }
   ],
   "source": [
    "pulse_RF_output_power_watts = 0.125 # watts\n",
    "\n",
    "exposure_area = (0.01**2.0) #m\n",
    "\n",
    "exposure_flux_w_m2 = pulse_RF_output_power_watts / exposure_area\n",
    "exposure_flux_w_m2"
   ]
  },
  {
   "cell_type": "code",
   "execution_count": 79,
   "metadata": {},
   "outputs": [
    {
     "data": {
      "text/plain": [
       "[<matplotlib.lines.Line2D at 0x7fe33231a940>]"
      ]
     },
     "execution_count": 79,
     "metadata": {},
     "output_type": "execute_result"
    },
    {
     "data": {
      "image/png": "[encoded data removed]",
      "text/plain": [
       "<Figure size 432x288 with 1 Axes>"
      ]
     },
     "metadata": {
      "needs_background": "light"
     },
     "output_type": "display_data"
    }
   ],
   "source": [
    "#ICNIRP 2020, Table 3, General Public.\n",
    "#HEALTH PHYS118(5): 483–524; 2020\n",
    "#PUBLISHED AHEAD OF PRINT IN MARCH 2020: HEALTH PHYS 118(00):000–000; 2020\n",
    "# t is time in seconds, and restrictions must be satisfied for all values of t between >0 and <360 s, \n",
    "# regardless of the temporal characteristics of the exposure itself.\n",
    "# Local Uab is to be averaged over a square 4-cm^2 surface area of the body.\n",
    "# Exposure from any pulse, group of pulses, or subgroup of pulses in a train, as well as from \n",
    "# the summation of exposures (including non-pulsed\n",
    "# EMFs), delivered in t s, must not exceed these levels.\n",
    "#\n",
    "# The SA and U ab values are conservative in that they are\n",
    "# not sufficient to raise Type 1 or Type 2 tissue temperatures\n",
    "# by 5 or 2°C, respectively.\n",
    "\n",
    "#there's also Table 7, giving the equation \n",
    "#55/f G 0.177\n",
    "\n",
    "#Converted from kJ/m^2\n",
    "def specific_energy_j_m2(t):\n",
    "    return 7.2*(0.05+0.95*((t/360.0)**0.5))*1000.0 # J/m^2\n",
    "\n",
    "#t = 0\n",
    "\n",
    "t = np.linspace(0,360,100)\n",
    "\n",
    "plt.plot(t,specific_energy_j_m2(t), 'r')\n",
    "\n"
   ]
  },
  {
   "cell_type": "code",
   "execution_count": 102,
   "metadata": {},
   "outputs": [
    {
     "ename": "TypeError",
     "evalue": "object of type <class 'float'> cannot be safely interpreted as an integer.",
     "output_type": "error",
     "traceback": [
      "\u001b[0;31m---------------------------------------------------------------------------\u001b[0m",
      "\u001b[0;31mTypeError\u001b[0m                                 Traceback (most recent call last)",
      "\u001b[0;32m~/.local/lib/python3.5/site-packages/numpy/core/function_base.py\u001b[0m in \u001b[0;36mlinspace\u001b[0;34m(start, stop, num, endpoint, retstep, dtype, axis)\u001b[0m\n\u001b[1;32m    116\u001b[0m     \u001b[0;32mtry\u001b[0m\u001b[0;34m:\u001b[0m\u001b[0;34m\u001b[0m\u001b[0m\n\u001b[0;32m--> 117\u001b[0;31m         \u001b[0mnum\u001b[0m \u001b[0;34m=\u001b[0m \u001b[0moperator\u001b[0m\u001b[0;34m.\u001b[0m\u001b[0mindex\u001b[0m\u001b[0;34m(\u001b[0m\u001b[0mnum\u001b[0m\u001b[0;34m)\u001b[0m\u001b[0;34m\u001b[0m\u001b[0m\n\u001b[0m\u001b[1;32m    118\u001b[0m     \u001b[0;32mexcept\u001b[0m \u001b[0mTypeError\u001b[0m\u001b[0;34m:\u001b[0m\u001b[0;34m\u001b[0m\u001b[0m\n",
      "\u001b[0;31mTypeError\u001b[0m: 'float' object cannot be interpreted as an integer",
      "\nDuring handling of the above exception, another exception occurred:\n",
      "\u001b[0;31mTypeError\u001b[0m                                 Traceback (most recent call last)",
      "\u001b[0;32m<ipython-input-102-70815331334c>\u001b[0m in \u001b[0;36m<module>\u001b[0;34m\u001b[0m\n\u001b[0;32m----> 1\u001b[0;31m \u001b[0mpulse_t\u001b[0m \u001b[0;34m=\u001b[0m \u001b[0mnp\u001b[0m\u001b[0;34m.\u001b[0m\u001b[0mlinspace\u001b[0m\u001b[0;34m(\u001b[0m\u001b[0;36m0\u001b[0m\u001b[0;34m,\u001b[0m\u001b[0;36m1\u001b[0m\u001b[0;34m,\u001b[0m\u001b[0mrepetition_freq\u001b[0m\u001b[0;34m)\u001b[0m\u001b[0;34m\u001b[0m\u001b[0m\n\u001b[0m\u001b[1;32m      2\u001b[0m \u001b[0;34m\u001b[0m\u001b[0m\n\u001b[1;32m      3\u001b[0m \u001b[0mguideline_energy_integral_J_m2\u001b[0m \u001b[0;34m=\u001b[0m \u001b[0;36m0\u001b[0m\u001b[0;34m\u001b[0m\u001b[0m\n\u001b[1;32m      4\u001b[0m \u001b[0mguideline_energy\u001b[0m \u001b[0;34m=\u001b[0m \u001b[0;34m[\u001b[0m\u001b[0;34m]\u001b[0m\u001b[0;34m\u001b[0m\u001b[0m\n\u001b[1;32m      5\u001b[0m \u001b[0;34m\u001b[0m\u001b[0m\n",
      "\u001b[0;32m<__array_function__ internals>\u001b[0m in \u001b[0;36mlinspace\u001b[0;34m(*args, **kwargs)\u001b[0m\n",
      "\u001b[0;32m~/.local/lib/python3.5/site-packages/numpy/core/function_base.py\u001b[0m in \u001b[0;36mlinspace\u001b[0;34m(start, stop, num, endpoint, retstep, dtype, axis)\u001b[0m\n\u001b[1;32m    119\u001b[0m         raise TypeError(\n\u001b[1;32m    120\u001b[0m             \u001b[0;34m\"object of type {} cannot be safely interpreted as an integer.\"\u001b[0m\u001b[0;34m\u001b[0m\u001b[0m\n\u001b[0;32m--> 121\u001b[0;31m                 .format(type(num)))\n\u001b[0m\u001b[1;32m    122\u001b[0m \u001b[0;34m\u001b[0m\u001b[0m\n\u001b[1;32m    123\u001b[0m     \u001b[0;32mif\u001b[0m \u001b[0mnum\u001b[0m \u001b[0;34m<\u001b[0m \u001b[0;36m0\u001b[0m\u001b[0;34m:\u001b[0m\u001b[0;34m\u001b[0m\u001b[0m\n",
      "\u001b[0;31mTypeError\u001b[0m: object of type <class 'float'> cannot be safely interpreted as an integer."
     ]
    }
   ],
   "source": [
    "pulse_t = np.linspace(0,1,repetition_freq*10)\n",
    "\n",
    "guideline_energy_integral_J_m2 = 0\n",
    "guideline_energy = []\n",
    "\n",
    "pulse_energy_integral_J_m2 = 0\n",
    "pulse_energy = []\n",
    "\n",
    "for idx,t_ in enumerate(pulse_t[0:-1]):\n",
    "    dt = (pulse_t[idx+1]-t_)\n",
    "    \n",
    "    pulse_energy_integral_J_m2 += pulse_RF_output_power_watts * dt / exposure_area\n",
    "\n",
    "    \n",
    "    guideline_energy_integral_J_m2 = (specific_energy_j_m2(t_))       \n",
    "    guideline_energy.append(guideline_energy_integral_J_m2)\n",
    "    pulse_energy.append(pulse_energy_integral_J_m2)\n",
    "\n",
    "#wait, we could have just symbolically integrated this. oh well. \n",
    "#I guess this is more flexible in terms of step response? Nah, just being dumb.\n",
    "#no, wait, isn't that equation already an integral over energy?\n",
    "\n",
    "plt.plot(pulse_t[0:-1], guideline_energy[0:-1], 'r')\n",
    "plt.plot(pulse_t[0:-1], pulse_energy[0:-1], 'g')\n",
    "\n",
    "pulse_energy_integral * repetition_freq"
   ]
  },
  {
   "cell_type": "code",
   "execution_count": null,
   "metadata": {},
   "outputs": [],
   "source": []
  }
 ],
 "metadata": {
  "kernelspec": {
   "display_name": "Python 3",
   "language": "python",
   "name": "python3"
  },
  "language_info": {
   "codemirror_mode": {
    "name": "ipython",
    "version": 3
   },
   "file_extension": ".py",
   "mimetype": "text/x-python",
   "name": "python",
   "nbconvert_exporter": "python",
   "pygments_lexer": "ipython3",
   "version": "3.5.3"
  }
 },
 "nbformat": 4,
 "nbformat_minor": 2
}
