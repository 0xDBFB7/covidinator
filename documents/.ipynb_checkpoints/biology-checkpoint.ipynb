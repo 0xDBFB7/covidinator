{
 "cells": [
  {
   "cell_type": "code",
   "execution_count": 5,
   "metadata": {},
   "outputs": [],
   "source": [
    "from math import pi, sqrt"
   ]
  },
  {
   "cell_type": "code",
   "execution_count": 6,
   "metadata": {},
   "outputs": [
    {
     "ename": "NameError",
     "evalue": "name 'r' is not defined",
     "output_type": "error",
     "traceback": [
      "\u001b[0;31m---------------------------------------------------------------------------\u001b[0m",
      "\u001b[0;31mNameError\u001b[0m                                 Traceback (most recent call last)",
      "\u001b[0;32m<ipython-input-6-d315144f069f>\u001b[0m in \u001b[0;36m<module>\u001b[0;34m\u001b[0m\n\u001b[1;32m      9\u001b[0m \u001b[0msigma_mass\u001b[0m \u001b[0;34m=\u001b[0m \u001b[0;34m(\u001b[0m\u001b[0;36m16.65\u001b[0m\u001b[0;34m+\u001b[0m\u001b[0;36m12\u001b[0m\u001b[0;34m)\u001b[0m\u001b[0;34m/\u001b[0m\u001b[0;36m2.0\u001b[0m\u001b[0;34m\u001b[0m\u001b[0m\n\u001b[1;32m     10\u001b[0m \u001b[0;34m\u001b[0m\u001b[0m\n\u001b[0;32m---> 11\u001b[0;31m \u001b[0mvolume\u001b[0m \u001b[0;34m=\u001b[0m \u001b[0;34m(\u001b[0m\u001b[0;36m4\u001b[0m\u001b[0;34m/\u001b[0m\u001b[0;36m3.0\u001b[0m\u001b[0;34m)\u001b[0m \u001b[0;34m*\u001b[0m \u001b[0mpi\u001b[0m \u001b[0;34m*\u001b[0m \u001b[0mr\u001b[0m\u001b[0;34m**\u001b[0m\u001b[0;36m2.0\u001b[0m\u001b[0;34m\u001b[0m\u001b[0m\n\u001b[0m\u001b[1;32m     12\u001b[0m \u001b[0;34m\u001b[0m\u001b[0m\n\u001b[1;32m     13\u001b[0m \u001b[0;34m\u001b[0m\u001b[0m\n",
      "\u001b[0;31mNameError\u001b[0m: name 'r' is not defined"
     ]
    }
   ],
   "source": [
    "#[Lauffer 1944]: diameter 109 +/- 16.65 nm\n",
    "#[Ruigrok 1984]: diameter 115 +/- 12 nm\n",
    "\n",
    "#57.5 avg to 63.5 nm \n",
    "\n",
    "sigma_diameter = (16.65+12)/2.0\n",
    "\n",
    "#[Ruigrok 1984]: mass 160 MDa +/- 17 MDa\n",
    "sigma_mass = (16.65+12)/2.0\n",
    "\n",
    "\n",
    "\n",
    "\n",
    "\n",
    "\n"
   ]
  },
  {
   "cell_type": "code",
   "execution_count": 14,
   "metadata": {},
   "outputs": [],
   "source": [
    "avg_dia = 57.5 \n",
    "one_sigma_pos_dia = 63.5\n",
    "volume_sigma = 1.0-((4/3.0) * pi * (one_sigma_pos_dia)**2.0)/((4/3.0) * pi * (avg_dia)**2.0)\n",
    "\n",
    "avg_mass = 160\n"
   ]
  },
  {
   "cell_type": "code",
   "execution_count": 9,
   "metadata": {},
   "outputs": [],
   "source": [
    "#Extracted from [Li 2011] using https://apps.automeris.io/wpd/,\n",
    "\n",
    "count = [2.9816513761467904,\n",
    "6.0091743119266035,\n",
    "15.045871559633028,\n",
    "21.14678899082569,\n",
    "17.93577981651376,\n",
    "11.10091743119266,\n",
    "11.972477064220184,\n",
    "11.972477064220184,\n",
    "15.458715596330272,\n",
    "8.119266055045873,\n",
    "19.174311926605505,\n",
    "9.908256880733944,\n",
    "6.834862385321103,\n",
    "5.045871559633027,\n",
    "7.018348623853214,\n",
    "2.018348623853214,\n",
    "1.0091743119266046]\n",
    "\n",
    "\n",
    "stiffness = [0.24179620034542312,\n",
    "0.33851468048359246,\n",
    "0.4421416234887737,\n",
    "0.5423143350604491,\n",
    "0.6528497409326425,\n",
    "0.753022452504318,\n",
    "0.8186528497409327,\n",
    "0.9395509499136444,\n",
    "1.0466321243523315,\n",
    "1.143350604490501,\n",
    "1.2469775474956826,\n",
    "1.3506044905008636,\n",
    "1.4300518134715028,\n",
    "1.5474956822107082,\n",
    "1.6165803108808294,\n",
    "1.7305699481865287,\n",
    "1.9412780656303976]\n"
   ]
  },
  {
   "cell_type": "markdown",
   "metadata": {},
   "source": [
    "We very simply extend [Yang 2015]'s analysis to include the distribution of viral particles.\n",
    "\n",
    "    The majority of virions (n = 78) may be described as spherical (axial ratio 1.2), the remainder are oval or   kidney-shaped with axial ratios up to 1.4 (n = 17) or more elongated with axial ratios as high as 7.7 (n = 15). The outer diameters of the spherical virions ranged from 84 to 170 nm (mean, 120 nm).\n",
    "\n",
    "Note that, per [Lauffer 1944], of Inf A and B, \"the infectious particles have diameters within the range 80 to 135[nm]\".\n",
    "\n",
    "However, [Yang 2015]'s MDCK plaque assay is already sensitive to infectivity; the extreme-sized non-infective mutants would already be filtered out. The PCR assay might not be; even non-infectious mutants.\n",
    "\n",
    "\n",
    "The mass, diameter, and breaking force are presumably not independently distributed. The correlations between the three variables do not seem to be documented in the literature.\n",
    "\n",
    "\n",
    "\n",
    "The average stiffness of the liposome varies approximately linearly from 0.025 to 0.015 from 80 to 135 nm [Li 2011], plus a random distribution with approx. 0.0025 sigma. \n",
    "\n",
    "\n",
    "\n",
    "From [Yang 2015], eq. 7,\n",
    "\n",
    "$ A = \\frac{q E_0}{\\mu \\sqrt{((2 \\pi f_{res})^2 - (2 \\pi f_{excite})^2)^2 + \\left(\\frac{(2 \\pi f_{res})(2 \\pi f_{excite})}{Q}\\right)^2}} $\n",
    "\n",
    "\n",
    "The resonant frequency varies as $\\sqrt{k/m^*}$.\n",
    "\n"
   ]
  },
  {
   "cell_type": "code",
   "execution_count": null,
   "metadata": {},
   "outputs": [],
   "source": []
  }
 ],
 "metadata": {
  "kernelspec": {
   "display_name": "Python 3",
   "language": "python",
   "name": "python3"
  },
  "language_info": {
   "codemirror_mode": {
    "name": "ipython",
    "version": 3
   },
   "file_extension": ".py",
   "mimetype": "text/x-python",
   "name": "python",
   "nbconvert_exporter": "python",
   "pygments_lexer": "ipython3",
   "version": "3.5.3"
  }
 },
 "nbformat": 4,
 "nbformat_minor": 2
}
