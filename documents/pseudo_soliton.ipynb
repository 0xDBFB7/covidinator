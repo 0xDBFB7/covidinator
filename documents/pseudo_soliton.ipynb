{
 "cells": [
  {
   "cell_type": "code",
   "execution_count": 2,
   "metadata": {},
   "outputs": [],
   "source": [
    "from math import sin, cos, pi, sqrt, e, log, isclose, exp\n",
    "from scipy.optimize import curve_fit\n",
    "import numpy as np\n",
    "import matplotlib.pyplot as plt\n",
    "from matplotlib import colors, cm, pyplot as plt\n",
    "\n",
    "import h5py\n",
    "from scipy.constants import epsilon_0, mu_0\n",
    "import scipy.constants"
   ]
  },
  {
   "cell_type": "code",
   "execution_count": 109,
   "metadata": {},
   "outputs": [
    {
     "data": {
      "text/plain": [
       "[<matplotlib.lines.Line2D at 0x7ff50674fb90>]"
      ]
     },
     "execution_count": 109,
     "metadata": {},
     "output_type": "execute_result"
    },
    {
     "data": {
      "image/png": "[encoded data removed]",
      "text/plain": [
       "<Figure size 432x288 with 1 Axes>"
      ]
     },
     "metadata": {
      "needs_background": "light"
     },
     "output_type": "display_data"
    }
   ],
   "source": [
    "N = 10000\n",
    "# sp = 0.01e9\n",
    "# f = np.array([5e9, 10e9])\n",
    "\n",
    "f = np.array(np.linspace(1e9, 100e9, N))\n",
    "# phase = np.array([pi]*(N//2) + [0]*(N//2))\n",
    "\n",
    "dispersion = 10/1e9\n",
    "\n",
    "penetration_depth = 0.0046\n",
    "\n",
    "k_tissue = 2 * pi * f * np.sqrt(epsilon_0 * f * dispersion * mu_0)\n",
    "\n",
    "\n",
    "x = np.linspace(0, 0.01, 1000)\n",
    "\n",
    "dist = 0.005\n",
    "\n",
    "E = (np.sin(k_tissue[0] * x - dist*k_tissue[0]))\n",
    "for i in range(1, len(f)):\n",
    "    E += (np.sin(k_tissue[i] * x - dist*k_tissue[0]))\n",
    "\n",
    "E /= np.linalg.norm(E)\n",
    "\n",
    "Em = E * np.exp(-x/penetration_depth)\n",
    "\n",
    "plt.plot(E)\n",
    "# plt.plot(Em)\n",
    "\n"
   ]
  }
 ],
 "metadata": {
  "kernelspec": {
   "display_name": "Python 3",
   "language": "python",
   "name": "python3"
  },
  "language_info": {
   "codemirror_mode": {
    "name": "ipython",
    "version": 3
   },
   "file_extension": ".py",
   "mimetype": "text/x-python",
   "name": "python",
   "nbconvert_exporter": "python",
   "pygments_lexer": "ipython3",
   "version": "3.7.6"
  }
 },
 "nbformat": 4,
 "nbformat_minor": 4
}
