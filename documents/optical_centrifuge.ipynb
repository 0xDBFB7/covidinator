{
 "cells": [
  {
   "cell_type": "markdown",
   "metadata": {},
   "source": [
    "# Already exists\n",
    "\n",
    "This technique is called \"electrorotation\".\n",
    "\n",
    "\\cite{Dielectric1988a}\n",
    "\n",
    "\n",
    "\\cite{Electrorotation1988}\n",
    "\n",
    "> In this article we are concerned with the induction of rotation in microscopic\n",
    "particles by use of a rotating electric field. The rotation is not synchronous\n",
    "with the field; in fact the particle speed is dependent on the square of the\n",
    "applied field strength [ 1 ] and reaches a maximum of perhaps 10 Hz, although\n",
    "field frequencies between 1 kHz and I MHz are typical [2, 3].\n",
    "\n",
    "\n",
    "> . Culture-based viability techniques\n",
    "are also slow, typically taking more than 1 week (Gaspard\n",
    "et al. 1996). Electrorotation, by comparison, is a quick and\n",
    "simple technique, with a sample preparation time of <15 min\n",
    "and measurement time of a similar period.\n",
    "\n"
   ]
  },
  {
   "cell_type": "markdown",
   "metadata": {},
   "source": [
    "Optical centrifuges rotate the polarization axis of an electromagnetic field, spinning up polarized molecules until centrifugal forces rip them apart. This has been demonstrated with simple molecules [Villeneuve 2000], [Karczmarek 1999].\n",
    "\n",
    "The oscillating electric field in our technique induces a slight dipole polarization on the virus, giving us a foothold through which a torque could be applied. \n",
    "\n",
    "Modulating the polarization axis of microwave transmitters is an established technique, and can be accomplished in a number of ways:\n",
    "\n",
    "- Switching the antenna feedport location using PiN diodes [Medina-Sanchez], [Silveira 2018] (limiting the switching frequency to a few KHz)\n",
    "- Modulating the phase shift between feed-ports so as to produce circular polarization\n",
    "- Mechanically rotating the antenna\n",
    "- Using four or more standard linearly-polarized antennas at various angles, modulating the power to buffer amplifiers.\n",
    "\n",
    "There is also the concern that biological tissues could exhibit the same effect.\n",
    "\n",
    "This sounds plausible, but then most wrong ideas do.\n",
    "\n",
    "A first-order Fermi estimate:"
   ]
  },
  {
   "cell_type": "code",
   "execution_count": 51,
   "metadata": {},
   "outputs": [],
   "source": [
    "from math import pi, sqrt\n",
    "\n",
    "from pytexit import py2tex"
   ]
  },
  {
   "cell_type": "markdown",
   "metadata": {},
   "source": [
    "We will need the dipole moment, and for this we need the charge separation. \n",
    "\n",
    "Here we make our first assumption; that the charge separation is the same as the mechanical displacement. This is only a good approximation if each charge is strongly bound to a site on the virus, and is almost certainly wrong.\n",
    "Computing the true polarizability seems quite involved.\n",
    "\n",
    "Born-Oppenheimer surfaces, which some molecular dynamics programs can account for [GROMACS 2020]. \n",
    "\n",
    "\n",
    "\n",
    "We the amplitude from [Yang 2015], eq. 7,\n",
    "\n",
    "$$A = \\frac{q E_0}{\\mu \\sqrt{((2 \\pi f_{res})^2 - (2 \\pi f_{excite})^2)^2 + \\left(\\frac{(2 \\pi f_{res})(2 \\pi f_{excite})}{Q}\\right)^2}}$$\n",
    "\n",
    "and we assume that the charge separation is twice the amplitude - $d_q = 2A$. "
   ]
  },
  {
   "cell_type": "markdown",
   "metadata": {},
   "source": [
    "Next we need to know how much energy is lost to friction. Here comes our next, even more unreasonable assumption: that the friction coefficient for rotation is equal to that of the dipole translation. This allows us to extract the friction coefficient from the vibrational Q factor obtained by [Yang 2015]. \n",
    "\n",
    "If the former was unfounded, this one is kooky. Unlike in translational vibration, where the solvent must be inertially displaced, according to [Steele 1963], in the molecular regime a perfect sphere can theoretically undergo perfect slip with the surrounding solvent; friction can only be introduced if there is a change in potential energy between different positions, and a uniform sphere has equal potential energy in every position.\n",
    "\n",
    "This also means that for molecular dynamics simulation, implicit solvation techniques using, for instance, Langevin integrators with fixed damping coefficients are not a good match for this problem.\n",
    "\n",
    "Via [Hu 1974], a small degree of oblateness or prolateness can affect the rotational friction coefficient decisively. But if the virus tends to rotate along its minimum friction axis, this effect should not be pronounced.\n",
    "\n",
    "The virus's surface is not smooth; spike proteins and other clutter may also slow its rotation.\n",
    "\n",
    "A drag force coefficient\n",
    "\n",
    "$$D = \\frac{\\sqrt{\\mu k}}{Q}$$\n",
    "\n",
    "$$2 \\pi f_{res} = \\sqrt{k/\\mu}$$\n",
    "\n",
    "\n",
    "$$k = (2 \\pi f_{res})^2 \\mu$$\n",
    "\n",
    "\n",
    "$$D = \\frac{\\sqrt{\\mu^2 (2 \\pi f_{res})^2 }}{Q}$$\n",
    "\n",
    "\n",
    "assuming that the drag force is exclusively applied to the outer envelope,\n",
    "\n",
    "\n",
    "$$F_{tangential} = D v$$\n",
    "\n",
    "\n",
    "$$v = d_{virus} \\pi f_{rot}$$\n",
    "\n",
    "$$\\tau_{friction} = D \\pi f_{rot}(d_{virus}^2)/2$$\n",
    "\n",
    "$$p = q \\cdot d_q$$\n",
    "\n",
    "$$\\tau_{dipole} = p E$$\n",
    "\n",
    "$$p E = D \\pi f_{rot} (d_{virus}^2)/2$$\n",
    "\n",
    "$$f_{rot} = \\frac{p E}{D (\\pi) (d_{virus}^2)/2}$$\n",
    "\n",
    "\n",
    "where\n",
    "\n",
    "    D = drag force coefficient\n",
    "    p = dipole moment\n",
    "    q = separated charge (1/2 total charge), C\n",
    "    M = virus mass \n",
    "    mu = reduced mass\n",
    "    k = spring constant of mass-spring system\n",
    "    Q = virus quality factor\n",
    "    d_virus = virus envelope diameter, meters\n",
    "    E = electric field, V/m\n",
    "    f_res = resonant frequency of linear, dipole mode, Hz\n",
    "    f_rot = frequency of rotational mode, Hz\n",
    "    v = tangential velocity at envelope surface\n",
    "    \n",
    "\n"
   ]
  },
  {
   "cell_type": "code",
   "execution_count": 91,
   "metadata": {},
   "outputs": [
    {
     "name": "stdout",
     "output_type": "stream",
     "text": [
      "Charge displacement: 32 pm\n",
      "6.031857894892403e-10\n",
      "Peak rotational frequency: 4e+03 Hz\n"
     ]
    }
   ],
   "source": [
    "E = 200.0 # V/m\n",
    "e = 1.602e-19\n",
    "q = 3.0*1e7*e #C\n",
    "\n",
    "d_virus = 120e-9\n",
    "\n",
    "M = 2.9e-19 #kg\n",
    "#mu = ((M/2.0)**2.0)/(2.0*(M/2.0))\n",
    "\n",
    "mu = 2.4e-20 # using [Yang 2015]'s reduced mass \n",
    "\n",
    "Q = 2.0\n",
    "f_res = 8e9\n",
    "f_excite = 8e9\n",
    "\n",
    "delta_f = ((2*pi*f_res)**2.0-(2*pi*f_excite)**2.0)**2.0\n",
    "A = q * E / (mu * sqrt((delta_f + ((((2.0*pi*f_res)*(2.0*pi*f_excite))/Q)**2.0))))   \n",
    "d_q = 2.0*A \n",
    "print(\"Charge displacement: {:.0f} pm\".format(A/1e-12))\n",
    "\n",
    "\n",
    "p = q*d_q\n",
    "\n",
    "D = sqrt((mu**2.0)*((2.0*pi*f_res)**2.0))/Q\n",
    "\n",
    "print(D)\n",
    "\n",
    "f_rot = (p*E)/(D*pi*((d_virus**2.0)/2.0))\n",
    "\n",
    "print(\"Peak rotational frequency: {:.0e} Hz\".format(f_rot))"
   ]
  },
  {
   "cell_type": "markdown",
   "metadata": {},
   "source": [
    "From [Holsapple 2008], the upper bound on the limiting angular frequency for a homegenous elastic sphere is at most $2.236 \\ \\bar \\omega$: \n",
    "\n",
    "$$\\bar \\omega = \\sqrt{3}\\sqrt{\\frac{Y}{\\rho a^2}}$$\n",
    "\n",
    "with radius a, mass density $\\rho$, yield stress Y."
   ]
  },
  {
   "cell_type": "code",
   "execution_count": 92,
   "metadata": {
    "scrolled": true
   },
   "outputs": [
    {
     "name": "stdout",
     "output_type": "stream",
     "text": [
      "Limit frequency: 2e+08 Hz\n"
     ]
    }
   ],
   "source": [
    "r_virus = (d_virus / 2.0)\n",
    "V = (4.0/3.0) * (pi*(r_virus**3.0))\n",
    "rho = M / V \n",
    "\n",
    "Y = 0.141e6 # Pa - from [Yang 2015]\n",
    "\n",
    "w_rot_limit = 2.236 * sqrt(3.0) * sqrt(Y / (rho * ((r_virus)**2.0)))\n",
    "f_rot_limit = w_rot_limit / (2.0*pi)\n",
    "\n",
    "print(\"Limit frequency: {:.0e} Hz\".format(f_rot_limit))"
   ]
  },
  {
   "cell_type": "markdown",
   "metadata": {},
   "source": [
    "The damping, yield stress, and charge separation would each have to be off by a factor of 50 for this to be a viable technique, which is probably unlikely.\n",
    "\n",
    "The rotation-induced signal modulation could still be useful for detecting the existence of the virus; but for inactivation, better techniques exist.\n",
    "\n",
    " "
   ]
  },
  {
   "cell_type": "markdown",
   "metadata": {},
   "source": [
    "-\n"
   ]
  },
  {
   "cell_type": "code",
   "execution_count": 63,
   "metadata": {},
   "outputs": [
    {
     "data": {
      "text/plain": [
       "9.276557494642485e-06"
      ]
     },
     "execution_count": 63,
     "metadata": {},
     "output_type": "execute_result"
    }
   ],
   "source": [
    "I = 2.0/5.0 * M * ((0.5*d_virus)**2.0)\n",
    "\n",
    "tau = p*E #torque\n",
    "\n",
    "x = tau/I # 10\n",
    "w_rot_limit/x"
   ]
  },
  {
   "cell_type": "code",
   "execution_count": 90,
   "metadata": {},
   "outputs": [
    {
     "data": {
      "text/plain": [
       "0.6366197723675813"
      ]
     },
     "execution_count": 90,
     "metadata": {},
     "output_type": "execute_result"
    }
   ],
   "source": [
    "#http://spiff.rit.edu/classes/phys283/lectures/forced_ii/forced_ii.html\n",
    "\n",
    "time_constant = ((2.0*mu)/((2.0*pi*8e9*mu)/Q))\n",
    "\n",
    "time_constant / (1.0/8e9)"
   ]
  }
 ],
 "metadata": {
  "kernelspec": {
   "display_name": "Python 3",
   "language": "python",
   "name": "python3"
  },
  "language_info": {
   "codemirror_mode": {
    "name": "ipython",
    "version": 3
   },
   "file_extension": ".py",
   "mimetype": "text/x-python",
   "name": "python",
   "nbconvert_exporter": "python",
   "pygments_lexer": "ipython3",
   "version": "3.7.6"
  }
 },
 "nbformat": 4,
 "nbformat_minor": 2
}
