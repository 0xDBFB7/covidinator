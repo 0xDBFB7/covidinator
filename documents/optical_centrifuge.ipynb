{
 "cells": [
  {
   "cell_type": "code",
   "execution_count": 9,
   "metadata": {},
   "outputs": [],
   "source": [
    "from math import pi, sqrt"
   ]
  },
  {
   "cell_type": "markdown",
   "metadata": {},
   "source": [
    "Given the solvent damping, what is the maximum rotation frequency we can expect from a given electric field? That is, at what frequency will the polarization and the dipole get out of sync?\n",
    "\n",
    "A drag force coefficient\n",
    "\n",
    "$ D = \\frac{\\sqrt{M k}}{Q} $\n",
    "\n",
    "$ 2 \\pi f_{res} = \\sqrt{k/M} $\n",
    "\n",
    "$ k = (2 \\pi f_{res})^2 M$\n",
    "\n",
    "$ D = \\frac{\\sqrt{M^2 (2 \\pi f_{res})^2 }}{Q} $\n",
    "\n",
    "assuming that the drag force is exclusively applied to the outer envelope,\n",
    "\n",
    "$ F_{tangential} = D v $\n",
    "\n",
    "$ v = d_{virus} \\pi f_{rot} $\n",
    "\n",
    "$ \\tau_{friction} = D \\pi f_{rot}(d_{virus}^2)/2  $\n",
    "\n",
    "$ p = q \\cdot d_q $\n",
    "\n",
    "$ \\tau_{dipole} = p E $\n",
    "\n",
    "$ p E = D \\pi f_{rot} (d_{virus}^2)/2 $ \n",
    "\n",
    "$ f_{rot} = \\frac{p E}{D (\\pi) (d_{virus}^2)/2} $ \n",
    "\n",
    "\n",
    "where\n",
    "\n",
    "    p = dipole moment\n",
    "    q = separated charge (1/2 total charge), C\n",
    "    M = mass in mass-spring system \n",
    "    k = spring constant of mass-spring system\n",
    "    Q = virus quality factor\n",
    "    d_virus = virus envelope diameter, meters\n",
    "    E = electric field, V/m\n",
    "    f_res = resonant frequency of linear, dipole mode, Hz\n",
    "    f_rot = frequency of rotational mode, Hz\n",
    "    v = tangential velocity at envelope surface\n",
    "    \n"
   ]
  },
  {
   "cell_type": "code",
   "execution_count": 24,
   "metadata": {},
   "outputs": [
    {
     "data": {
      "text/plain": [
       "30192.808071991283"
      ]
     },
     "execution_count": 24,
     "metadata": {},
     "output_type": "execute_result"
    }
   ],
   "source": [
    "E = 50.0 # V/m\n",
    "e = 1.602e-19\n",
    "q = 3.0*1e7*e #C\n",
    "\n",
    "d_virus = 120e-9\n",
    "d_q = 10e-9 \n",
    "\n",
    "M = 1.4e-19 #80 MDa - probably wrong\n",
    "\n",
    "Q = 2.0\n",
    "f_res = 8e9\n",
    "\n",
    "p = q*d_q\n",
    "\n",
    "D = sqrt((M**2.0)*((2.0*pi*f_res)**2.0))/Q\n",
    "\n",
    "f_rot = (p*E)/(D*pi*((d_virus**2.0)/2.0))\n",
    "\n",
    "f_rot"
   ]
  },
  {
   "cell_type": "markdown",
   "metadata": {},
   "source": [
    "So, assuming that the translational and rotational friction coefficients are equal, the equilibrium resonant frequency is 1000x too small to rupture the virus.\n",
    "\n",
    "However, the former is not a good assumption. Unlike in translational vibration, where the solvent must be inertially displaced, according to [Steele 1963] a perfect sphere can undergo perfect slip with the surrounding solvent.\n",
    "\n",
    "(This also means that for molecular dynamics simulation, implicit solvation techniques using Langevin integration with a fixed damping coefficient is not a good match for this problem).\n",
    "\n",
    "Via [Hu 1974], a small degree of oblateness or prolateness can affect the rotational friction coefficient decisively. But if the virus tends to rotate along its minimum friction axis, this effect should not be pronounced.\n",
    "\n",
    "The virus's surface is also not smooth; spike proteins and other clutter may also slow its rotation."
   ]
  },
  {
   "cell_type": "code",
   "execution_count": 23,
   "metadata": {},
   "outputs": [
    {
     "data": {
      "text/plain": [
       "1.191964285714286e+16"
      ]
     },
     "execution_count": 23,
     "metadata": {},
     "output_type": "execute_result"
    }
   ],
   "source": [
    "I = 2.0/5.0 * M * ((0.5*d_virus)**2.0)\n",
    "\n",
    "\n",
    "tau = p*E #torque\n",
    "\n",
    "x = tau/I # 10\n",
    "x"
   ]
  },
  {
   "cell_type": "code",
   "execution_count": null,
   "metadata": {},
   "outputs": [],
   "source": []
  }
 ],
 "metadata": {
  "kernelspec": {
   "display_name": "Python 3",
   "language": "python",
   "name": "python3"
  },
  "language_info": {
   "codemirror_mode": {
    "name": "ipython",
    "version": 3
   },
   "file_extension": ".py",
   "mimetype": "text/x-python",
   "name": "python",
   "nbconvert_exporter": "python",
   "pygments_lexer": "ipython3",
   "version": "3.5.3"
  }
 },
 "nbformat": 4,
 "nbformat_minor": 2
}
