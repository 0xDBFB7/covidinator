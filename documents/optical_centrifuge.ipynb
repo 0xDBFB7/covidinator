{
 "cells": [
  {
   "cell_type": "code",
   "execution_count": 2,
   "metadata": {},
   "outputs": [],
   "source": [
    "from math import pi, sqrt"
   ]
  },
  {
   "cell_type": "markdown",
   "metadata": {},
   "source": [
    "From [Yang 2015], eq. 7,\n",
    "\n",
    "$ A = \\frac{q E_0}{\\mu \\sqrt{((2 \\pi f_{res})^2 - (2 \\pi f_{excite})^2)^2 + \\left(\\frac{(2 \\pi f_{res})(2 \\pi f_{excite})}{Q}\\right)^2}} $\n",
    "\n",
    "Then we assume that the charge separation is twice the amplitude - $ d_q = 2A$. \n"
   ]
  },
  {
   "cell_type": "code",
   "execution_count": null,
   "metadata": {},
   "outputs": [],
   "source": []
  },
  {
   "cell_type": "markdown",
   "metadata": {},
   "source": [
    "If we  damping, what is the maximum rotation frequency we can expect from a given electric field? That is, at what frequency will the polarization and the dipole get out of sync?\n",
    "\n",
    "A drag force coefficient\n",
    "\n",
    "$ D = \\frac{\\sqrt{\\mu k}}{Q} $\n",
    "\n",
    "$ 2 \\pi f_{res} = \\sqrt{k/\\mu} $\n",
    "\n",
    "$ k = (2 \\pi f_{res})^2 \\mu$\n",
    "\n",
    "$ D = \\frac{\\sqrt{\\mu^2 (2 \\pi f_{res})^2 }}{Q} $\n",
    "\n",
    "assuming that the drag force is exclusively applied to the outer envelope,\n",
    "\n",
    "$ F_{tangential} = D v $\n",
    "\n",
    "$ v = d_{virus} \\pi f_{rot} $\n",
    "\n",
    "$ \\tau_{friction} = D \\pi f_{rot}(d_{virus}^2)/2  $\n",
    "\n",
    "$ p = q \\cdot d_q $\n",
    "\n",
    "$ \\tau_{dipole} = p E $\n",
    "\n",
    "$ p E = D \\pi f_{rot} (d_{virus}^2)/2 $ \n",
    "\n",
    "$ f_{rot} = \\frac{p E}{D (\\pi) (d_{virus}^2)/2} $ \n",
    "\n",
    "\n",
    "where\n",
    "\n",
    "    p = dipole moment\n",
    "    q = separated charge (1/2 total charge), C\n",
    "    M = virus mass \n",
    "    mu = reduced mass\n",
    "    k = spring constant of mass-spring system\n",
    "    Q = virus quality factor\n",
    "    d_virus = virus envelope diameter, meters\n",
    "    E = electric field, V/m\n",
    "    f_res = resonant frequency of linear, dipole mode, Hz\n",
    "    f_rot = frequency of rotational mode, Hz\n",
    "    v = tangential velocity at envelope surface\n",
    "    \n"
   ]
  },
  {
   "cell_type": "code",
   "execution_count": 7,
   "metadata": {},
   "outputs": [
    {
     "name": "stdout",
     "output_type": "stream",
     "text": [
      "1.5851224237795425e-11\n"
     ]
    },
    {
     "data": {
      "text/plain": [
       "1116.7169326083251"
      ]
     },
     "execution_count": 7,
     "metadata": {},
     "output_type": "execute_result"
    }
   ],
   "source": [
    "E = 100.0 # V/m\n",
    "e = 1.602e-19\n",
    "q = 3.0*1e7*e #C\n",
    "\n",
    "\n",
    "\n",
    "d_virus = 120e-9\n",
    "\n",
    "\n",
    "#M = 2.9e-19 \n",
    "\n",
    "#mu = ((M/2.0)**2.0)/(2.0*(M/2.0))\n",
    "\n",
    "mu = 2.4e-20 # using [Yang 2015]'s reduced mass \n",
    "\n",
    "Q = 2.0\n",
    "f_res = 8e9\n",
    "f_excite = 8e9\n",
    "\n",
    "delta_f = ((2*pi*f_res)**2.0-(2*pi*f_excite)**2.0)**2.0\n",
    "A = q * E / (mu * sqrt((delta_f + ((((2.0*pi*f_res)*(2.0*pi*f_excite))/Q)**2.0))))   \n",
    "d_q = 2.0*A \n",
    "print(A)\n",
    "\n",
    "\n",
    "p = q*d_q\n",
    "\n",
    "D = sqrt((mu**2.0)*((2.0*pi*f_res)**2.0))/Q\n",
    "\n",
    "f_rot = (p*E)/(D*pi*((d_virus**2.0)/2.0))\n",
    "\n",
    "f_rot"
   ]
  },
  {
   "cell_type": "markdown",
   "metadata": {},
   "source": [
    "So, assuming that the translational and rotational friction coefficients are equal and that the dipole charge separation is equal to the mechanical oscillation amplitude, the equilibrium rotation frequency is 1000x too small to rupture the virus.\n",
    "\n",
    "However, the former is not a good assumption. Unlike in translational vibration, where the solvent must be inertially displaced, according to [Steele 1963] a perfect sphere can undergo perfect slip with the surrounding solvent.\n",
    "\n",
    "This also means that for molecular dynamics simulation, implicit solvation techniques using Langevin integration with a fixed damping coefficient is not a good match for this problem.\n",
    "\n",
    "Via [Hu 1974], a small degree of oblateness or prolateness can affect the rotational friction coefficient decisively. But if the virus tends to rotate along its minimum friction axis, this effect should not be pronounced.\n",
    "\n",
    "The virus's surface is also not smooth; spike proteins and other clutter may also slow its rotation."
   ]
  },
  {
   "cell_type": "code",
   "execution_count": null,
   "metadata": {},
   "outputs": [],
   "source": []
  },
  {
   "cell_type": "code",
   "execution_count": null,
   "metadata": {},
   "outputs": [],
   "source": []
  },
  {
   "cell_type": "code",
   "execution_count": 8,
   "metadata": {},
   "outputs": [
    {
     "ename": "NameError",
     "evalue": "name 'M' is not defined",
     "output_type": "error",
     "traceback": [
      "\u001b[0;31m---------------------------------------------------------------------------\u001b[0m",
      "\u001b[0;31mNameError\u001b[0m                                 Traceback (most recent call last)",
      "\u001b[0;32m<ipython-input-8-a19c4a88d2ca>\u001b[0m in \u001b[0;36m<module>\u001b[0;34m\u001b[0m\n\u001b[0;32m----> 1\u001b[0;31m \u001b[0mI\u001b[0m \u001b[0;34m=\u001b[0m \u001b[0;36m2.0\u001b[0m\u001b[0;34m/\u001b[0m\u001b[0;36m5.0\u001b[0m \u001b[0;34m*\u001b[0m \u001b[0mM\u001b[0m \u001b[0;34m*\u001b[0m \u001b[0;34m(\u001b[0m\u001b[0;34m(\u001b[0m\u001b[0;36m0.5\u001b[0m\u001b[0;34m*\u001b[0m\u001b[0md_virus\u001b[0m\u001b[0;34m)\u001b[0m\u001b[0;34m**\u001b[0m\u001b[0;36m2.0\u001b[0m\u001b[0;34m)\u001b[0m\u001b[0;34m\u001b[0m\u001b[0m\n\u001b[0m\u001b[1;32m      2\u001b[0m \u001b[0;34m\u001b[0m\u001b[0m\n\u001b[1;32m      3\u001b[0m \u001b[0mtau\u001b[0m \u001b[0;34m=\u001b[0m \u001b[0mp\u001b[0m\u001b[0;34m*\u001b[0m\u001b[0mE\u001b[0m \u001b[0;31m#torque\u001b[0m\u001b[0;34m\u001b[0m\u001b[0m\n\u001b[1;32m      4\u001b[0m \u001b[0;34m\u001b[0m\u001b[0m\n\u001b[1;32m      5\u001b[0m \u001b[0mx\u001b[0m \u001b[0;34m=\u001b[0m \u001b[0mtau\u001b[0m\u001b[0;34m/\u001b[0m\u001b[0mI\u001b[0m \u001b[0;31m# 10\u001b[0m\u001b[0;34m\u001b[0m\u001b[0m\n",
      "\u001b[0;31mNameError\u001b[0m: name 'M' is not defined"
     ]
    }
   ],
   "source": [
    "I = 2.0/5.0 * M * ((0.5*d_virus)**2.0)\n",
    "\n",
    "tau = p*E #torque\n",
    "\n",
    "x = tau/I # 10\n",
    "x"
   ]
  },
  {
   "cell_type": "code",
   "execution_count": null,
   "metadata": {},
   "outputs": [],
   "source": []
  },
  {
   "cell_type": "code",
   "execution_count": null,
   "metadata": {},
   "outputs": [],
   "source": []
  }
 ],
 "metadata": {
  "kernelspec": {
   "display_name": "Python 3",
   "language": "python",
   "name": "python3"
  },
  "language_info": {
   "codemirror_mode": {
    "name": "ipython",
    "version": 3
   },
   "file_extension": ".py",
   "mimetype": "text/x-python",
   "name": "python",
   "nbconvert_exporter": "python",
   "pygments_lexer": "ipython3",
   "version": "3.5.3"
  }
 },
 "nbformat": 4,
 "nbformat_minor": 2
}
